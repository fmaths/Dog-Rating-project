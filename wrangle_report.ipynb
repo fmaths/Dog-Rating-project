{
 "cells": [
  {
   "cell_type": "markdown",
   "id": "09571acd",
   "metadata": {},
   "source": [
    "# Data Wrangling report\n",
    "## Gather data\n",
    "The project is about rating the dogs using data from the Twitter account WeRateDogs. Two data were provided where *twitter_archive_enhanced* and *image predictions*. The first one was manually extracted and while the second one was programmatically extracted. I gathered them as required. For the third data set, I used gathered the data from Twitter using the Twitter API. I used the key and tokens provided by the Twitter development account to query the API created a file and read the tweet one by one as I dumped them into a JSON file and wrote them line by line into a text file. Using the text file, I loaded each line to JSON and then created a list of dictionaries that helped me create a data frame called additional_tweet_data.\n",
    "\n",
    "## Assess\n",
    "Next, I moved to assess the data. I used both visual and programmatic assessments on the three data and wrote a number of quality and tidiness issues that I wanted to address. The issues were related to the research questions that I wanted to answer at the end of the cleaning process. the issues were as shown below\n",
    "### Quality Issues\n",
    "##### additional_tweet_data\n",
    "* Convert the data type of the extracted dog rating from string to integer\n",
    "* Drop rows whose dog ratings have no numeric value(have an empty string)\n",
    "* Adopt a new name for the dog rating. A name that is going to signify the type of value we have in the column (x0.1)\n",
    "* Drop rows that go beyond 2017\n",
    "* Drop the id, date columns, and text column\n",
    "* Rename the columns of the new data frame formed after combining the extracted data and the original data\n",
    "* Clean the dogs’ name column to ensure that no row has two dog names\n",
    "* Remove the texts quotation(') texts from the names of the dogs extracted\n",
    "\n",
    "\n",
    "### Tideness Issues\n",
    "##### additional_tweet_data\n",
    "* Extract dog ratings from the text column\n",
    "* Extract dog names ratings from the text column\n",
    "* Extract years from the timestamp column\n",
    "\n",
    "##### additional_tweet_data and image_predict_data\n",
    "* Create one table for the observational unit. We will ensure that the rows in the final data have a tweet id that is in both tables. This is to ensure that we analyze original tweets, that is tweets having images only\n",
    "\n",
    "\n",
    "## Clean data\n",
    "Next, I moved to clean the data. Having used Twitter ids from *twitter_archive_data* to get data from the Twitter API and got new data having tweet text, favorite counts, rating, the number of retweets, and the timestamp, I found it necessary to clean the new data. This is because the ratings and the name of the dogs had to be extracted afresh as tipped off in the description of the project that if the two columns had to be used in the analysis, then one had to redo them. Since the new data had the corresponding favorite counts and number of retweets, I found it better to work with the new data acquired and the image-prediction data only. First, I used regular expressions to extract the ratings and the dog names from the text column. Next, I extracted the years from the date-created column. Since the data ought not to go beyond 2017, I dropped the rows that were earlier than 2017. I then did a number of quality cleaning issues such as changing data types, dropping rows and columns, renaming rows, and dropping rows that had nan or empty strings. To achieve the master data required to do the analysis, I ensured that the Twitter ids in my data set are also in the image-prediction file. Those that were not there were dropped. This ensured that I only analyze data that is based on original tweets because original tweets have images.\n",
    "\n"
   ]
  },
  {
   "cell_type": "code",
   "execution_count": null,
   "id": "00363c2d",
   "metadata": {},
   "outputs": [],
   "source": []
  },
  {
   "cell_type": "code",
   "execution_count": null,
   "id": "5bf6ea5b",
   "metadata": {},
   "outputs": [],
   "source": []
  }
 ],
 "metadata": {
  "kernelspec": {
   "display_name": "Python 3 (ipykernel)",
   "language": "python",
   "name": "python3"
  },
  "language_info": {
   "codemirror_mode": {
    "name": "ipython",
    "version": 3
   },
   "file_extension": ".py",
   "mimetype": "text/x-python",
   "name": "python",
   "nbconvert_exporter": "python",
   "pygments_lexer": "ipython3",
   "version": "3.7.13"
  }
 },
 "nbformat": 4,
 "nbformat_minor": 5
}
