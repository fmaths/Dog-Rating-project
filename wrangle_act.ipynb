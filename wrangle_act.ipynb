{
 "cells": [
  {
   "cell_type": "markdown",
   "id": "9554b929",
   "metadata": {},
   "source": [
    "# PROJECT: DOGS RATING ANALYSIS\n",
    "\n",
    "## Tables of Contents\n",
    "<ul> \n",
    "<li><a href=#introduction> INTRODUCTION </a>\n",
    "    <ul>\n",
    "    <li><a href=#ques>Analysis questions</a></li>\n",
    "    </ul></li>\n",
    "<li><a href=#wrangle> DATA WRANGLING </a>\n",
    "    <ul>\n",
    "    <li><a href=#wrangle_intro>Introduction to data Wrangling</a></li>\n",
    "    <li><a href=#gather>Gather data</a></li>\n",
    "    <li><a href=#assess>Assess data</a></li>\n",
    "    <li><a href=#clean>Clean data</a></li>\n",
    "    </ul> \n",
    "</li> \n",
    "<li><a href=#analyze> EXPLORATORY DATA ANALYSIS</a> </li>\n",
    "<li><a href=#concl> CONCLUSION</a></li>\n",
    "<li><a href=#lim> LIMITATIONS</a></li>\n",
    "</ul>"
   ]
  },
  {
   "cell_type": "markdown",
   "id": "8d127d64",
   "metadata": {},
   "source": [
    "<a id='intro'></a> \n",
    "## INTRODUCTION\n",
    "\n",
    "The project is about the analysis of data in a Twitter account by the user name @dog_rate. It is also known as WeRateDogs. On the account, several people rate dogs and provide comments on them. The rating has a denominator of 10 with a denominator of a number more than 10. \n",
    "\n",
    "In this project, we have been provided with two data sets, *twitter_archive_enhanced.csv* and *image_predictions.tsv* data. The first data contains tweet details except for the favorite counts and the retweet counts. This data is provided and extracted manually. The  *image_predictions* data contains the details of dog images. A link to this data is provided and has to be extracted programmatically. Since the data from twitter_archive may have retweets and original tweets, we will be using the tweet_ids from the image-prediction data to filter our data so that we analyze the original tweets because the images are from original tweets.\n",
    "\n",
    "The information contained in the two data sets is not enough to make informed insights on dog ratings, as such, we will gather a third data set WeRateDogs Twitter account using the Twitter API. We will use the tweet_ids from the twitter_archive data to extract data from Twitter API. We wish to get more information on the tweet's fevourite counts and retweets. \n",
    "\n",
    "<a id='ques'></a> \n",
    "## Analysis questions\n",
    "In this project, we seek to answer the following questions\n",
    "<ol>\n",
    "<li>Which dogs have the highest and the lowest average rating?</li>\n",
    "<li>What is the dog ranking based on the average favourite counts and the average number of retweets?</li>\n",
    "<li>Do the dogs with higher have higher favourite counts and number of retweets?</li> \n",
    "<li>What is the effective percentage ranking of the dogs based on the favourite counts, number of retweets and the ratings? Does the ranking based on the effective percentage agree with the other rankings used earlier?  </li>\n",
    "</ol>        "
   ]
  },
  {
   "cell_type": "code",
   "execution_count": 1,
   "id": "d9501872",
   "metadata": {},
   "outputs": [],
   "source": [
    "#magic function to have the graphics included in our notebook\n",
    "%matplotlib inline\n",
    "\n",
    "\n",
    "#import a number of libraries to use in the project\n",
    "import pandas as pd\n",
    "import numpy as np\n",
    "import re\n",
    "\n",
    "import matplotlib.pyplot as plt\n",
    "import seaborn as sns\n",
    "\n",
    "import requests \n",
    "import tweepy\n",
    "import json\n",
    "\n",
    "\n"
   ]
  },
  {
   "cell_type": "markdown",
   "id": "22494a65",
   "metadata": {},
   "source": [
    "<a id='wrangle'></a>\n",
    "## DATA WRANGLING"
   ]
  },
  {
   "cell_type": "markdown",
   "id": "21522127",
   "metadata": {},
   "source": [
    "<a id='wrangle_intro'></a>\n",
    "## Introduction\n",
    "The data wrangling will include gatheing, assessing and cleaning data. We procceed with data gathering. later, we will assess then clean it. \n",
    "\n",
    "<a id='gather'></a>\n",
    "## Gather data\n",
    "\n",
    "We have three data sets, first, we begin with the *twitter_achive_enhanced*, then the *aditional data from twitter API* and finally the *image prediction data*.\n",
    "\n",
    "**I. Data set 1: twitter_achive_data** \n",
    "We manually extract the data into the file in the currect directory"
   ]
  },
  {
   "cell_type": "code",
   "execution_count": 3,
   "id": "796ce3d4",
   "metadata": {},
   "outputs": [
    {
     "data": {
      "text/html": [
       "<div>\n",
       "<style scoped>\n",
       "    .dataframe tbody tr th:only-of-type {\n",
       "        vertical-align: middle;\n",
       "    }\n",
       "\n",
       "    .dataframe tbody tr th {\n",
       "        vertical-align: top;\n",
       "    }\n",
       "\n",
       "    .dataframe thead th {\n",
       "        text-align: right;\n",
       "    }\n",
       "</style>\n",
       "<table border=\"1\" class=\"dataframe\">\n",
       "  <thead>\n",
       "    <tr style=\"text-align: right;\">\n",
       "      <th></th>\n",
       "      <th>tweet_id</th>\n",
       "      <th>in_reply_to_status_id</th>\n",
       "      <th>in_reply_to_user_id</th>\n",
       "      <th>timestamp</th>\n",
       "      <th>source</th>\n",
       "      <th>text</th>\n",
       "      <th>retweeted_status_id</th>\n",
       "      <th>retweeted_status_user_id</th>\n",
       "      <th>retweeted_status_timestamp</th>\n",
       "      <th>expanded_urls</th>\n",
       "      <th>rating_numerator</th>\n",
       "      <th>rating_denominator</th>\n",
       "      <th>name</th>\n",
       "      <th>doggo</th>\n",
       "      <th>floofer</th>\n",
       "      <th>pupper</th>\n",
       "      <th>puppo</th>\n",
       "    </tr>\n",
       "  </thead>\n",
       "  <tbody>\n",
       "    <tr>\n",
       "      <th>0</th>\n",
       "      <td>892420643555336193</td>\n",
       "      <td>NaN</td>\n",
       "      <td>NaN</td>\n",
       "      <td>2017-08-01 16:23:56 +0000</td>\n",
       "      <td>&lt;a href=\"http://twitter.com/download/iphone\" r...</td>\n",
       "      <td>This is Phineas. He's a mystical boy. Only eve...</td>\n",
       "      <td>NaN</td>\n",
       "      <td>NaN</td>\n",
       "      <td>NaN</td>\n",
       "      <td>https://twitter.com/dog_rates/status/892420643...</td>\n",
       "      <td>13</td>\n",
       "      <td>10</td>\n",
       "      <td>Phineas</td>\n",
       "      <td>None</td>\n",
       "      <td>None</td>\n",
       "      <td>None</td>\n",
       "      <td>None</td>\n",
       "    </tr>\n",
       "    <tr>\n",
       "      <th>1</th>\n",
       "      <td>892177421306343426</td>\n",
       "      <td>NaN</td>\n",
       "      <td>NaN</td>\n",
       "      <td>2017-08-01 00:17:27 +0000</td>\n",
       "      <td>&lt;a href=\"http://twitter.com/download/iphone\" r...</td>\n",
       "      <td>This is Tilly. She's just checking pup on you....</td>\n",
       "      <td>NaN</td>\n",
       "      <td>NaN</td>\n",
       "      <td>NaN</td>\n",
       "      <td>https://twitter.com/dog_rates/status/892177421...</td>\n",
       "      <td>13</td>\n",
       "      <td>10</td>\n",
       "      <td>Tilly</td>\n",
       "      <td>None</td>\n",
       "      <td>None</td>\n",
       "      <td>None</td>\n",
       "      <td>None</td>\n",
       "    </tr>\n",
       "  </tbody>\n",
       "</table>\n",
       "</div>"
      ],
      "text/plain": [
       "             tweet_id  in_reply_to_status_id  in_reply_to_user_id  \\\n",
       "0  892420643555336193                    NaN                  NaN   \n",
       "1  892177421306343426                    NaN                  NaN   \n",
       "\n",
       "                   timestamp  \\\n",
       "0  2017-08-01 16:23:56 +0000   \n",
       "1  2017-08-01 00:17:27 +0000   \n",
       "\n",
       "                                              source  \\\n",
       "0  <a href=\"http://twitter.com/download/iphone\" r...   \n",
       "1  <a href=\"http://twitter.com/download/iphone\" r...   \n",
       "\n",
       "                                                text  retweeted_status_id  \\\n",
       "0  This is Phineas. He's a mystical boy. Only eve...                  NaN   \n",
       "1  This is Tilly. She's just checking pup on you....                  NaN   \n",
       "\n",
       "   retweeted_status_user_id retweeted_status_timestamp  \\\n",
       "0                       NaN                        NaN   \n",
       "1                       NaN                        NaN   \n",
       "\n",
       "                                       expanded_urls  rating_numerator  \\\n",
       "0  https://twitter.com/dog_rates/status/892420643...                13   \n",
       "1  https://twitter.com/dog_rates/status/892177421...                13   \n",
       "\n",
       "   rating_denominator     name doggo floofer pupper puppo  \n",
       "0                  10  Phineas  None    None   None  None  \n",
       "1                  10    Tilly  None    None   None  None  "
      ]
     },
     "execution_count": 3,
     "metadata": {},
     "output_type": "execute_result"
    }
   ],
   "source": [
    "#extract data in twitter_achive_enhanced.csv and preview its contents\n",
    "twitter_archive_data =pd.read_csv('twitter-archive-enhanced.csv')\n",
    "twitter_archive_data.head(2)"
   ]
  },
  {
   "cell_type": "markdown",
   "id": "0b949389",
   "metadata": {},
   "source": [
    "**II. Data set 2: Addition data on tweets**\n",
    "\n",
    "To gather this data, we use the tweeter id's from the *twitter_achive_data* to get the more data on retweets, favourite counts and other informations. In the description of the project, the writer clearly says that he may not have extracted the dog ratings and the digs names well. We will therefore extract the tweet texts which which we will pull out the ratings and the bog names. We will also extract the dates when the tweet was created so that we can filter the data and remain with those that were created in the year 2017 or earlier as instructed."
   ]
  },
  {
   "cell_type": "code",
   "execution_count": 4,
   "id": "c3ba9605",
   "metadata": {},
   "outputs": [
    {
     "name": "stdout",
     "output_type": "stream",
     "text": [
      "<class 'pandas.core.frame.DataFrame'>\n",
      "RangeIndex: 2356 entries, 0 to 2355\n",
      "Data columns (total 17 columns):\n",
      " #   Column                      Non-Null Count  Dtype  \n",
      "---  ------                      --------------  -----  \n",
      " 0   tweet_id                    2356 non-null   int64  \n",
      " 1   in_reply_to_status_id       78 non-null     float64\n",
      " 2   in_reply_to_user_id         78 non-null     float64\n",
      " 3   timestamp                   2356 non-null   object \n",
      " 4   source                      2356 non-null   object \n",
      " 5   text                        2356 non-null   object \n",
      " 6   retweeted_status_id         181 non-null    float64\n",
      " 7   retweeted_status_user_id    181 non-null    float64\n",
      " 8   retweeted_status_timestamp  181 non-null    object \n",
      " 9   expanded_urls               2297 non-null   object \n",
      " 10  rating_numerator            2356 non-null   int64  \n",
      " 11  rating_denominator          2356 non-null   int64  \n",
      " 12  name                        2356 non-null   object \n",
      " 13  doggo                       2356 non-null   object \n",
      " 14  floofer                     2356 non-null   object \n",
      " 15  pupper                      2356 non-null   object \n",
      " 16  puppo                       2356 non-null   object \n",
      "dtypes: float64(4), int64(3), object(10)\n",
      "memory usage: 313.0+ KB\n"
     ]
    }
   ],
   "source": [
    "#We check if the id's are strings or numbers\n",
    "twitter_archive_data.info()"
   ]
  },
  {
   "cell_type": "markdown",
   "id": "ad4aa456",
   "metadata": {},
   "source": [
    "The twitter ids twitter_archive_data are integers, hence, we go ahead and use them to extract data from tweeter API using the tweepy library"
   ]
  },
  {
   "cell_type": "code",
   "execution_count": 5,
   "id": "e80c24fc",
   "metadata": {},
   "outputs": [
    {
     "data": {
      "text/plain": [
       "[892420643555336193,\n",
       " 892177421306343426,\n",
       " 891815181378084864,\n",
       " 891689557279858688,\n",
       " 891327558926688256]"
      ]
     },
     "execution_count": 5,
     "metadata": {},
     "output_type": "execute_result"
    }
   ],
   "source": [
    "# We preview the tweeter ids\n",
    "twitter_ids = list(twitter_archive_data['tweet_id'])\n",
    "twitter_ids[:5]"
   ]
  },
  {
   "cell_type": "markdown",
   "id": "01ac5259",
   "metadata": {},
   "source": [
    "Next, we extract data from twitter. Since some id may not work, we create a list of those ids that will not work.\n"
   ]
  },
  {
   "cell_type": "code",
   "execution_count": null,
   "id": "b15db0fd",
   "metadata": {},
   "outputs": [],
   "source": [
    "# we define our keys then pass them through the API authientication handler\n",
    "consumer_key='xxxx'\n",
    "consumer_secret_key='xxxx'\n",
    "access_token ='xxxx'\n",
    "access_secret_token='xxxx'\n",
    "\n",
    "\n",
    "auth = tweepy.OAuthHandler(consumer_key, consumer_secret_key)\n",
    "auth.set_access_token(access_token, access_secret_token)\n",
    "\n",
    "api=tweepy.API(auth, wait_on_rate_limit=True)\n",
    "\n",
    "tweet_id_not_fetch={}\n",
    "counter=0\n",
    "#we get the tweet details line by line and create a JSON line, then write it line by line into the text file on our local directpry\n",
    "#'additional_tweet_data.txt' \n",
    "with open('tweet._json.txt','w') as file:\n",
    "    for an_id in twitter_ids:\n",
    "        try:\n",
    "            tweet=api.get_status(an_id,tweet_mode='extended')\n",
    "            json.dump(tweet._json, file)\n",
    "            file.write('\\n')\n",
    "            counter+=1\n",
    "        except tweepy.errors.TweepyException as error:\n",
    "            tweet_id_not_fetch[an_id]=error\n",
    "            pass\n",
    "print(tweet_id_not_fetch)\n",
    " \n",
    "   \n",
    "        "
   ]
  },
  {
   "cell_type": "code",
   "execution_count": 6,
   "id": "eaf6b089",
   "metadata": {},
   "outputs": [
    {
     "name": "stdout",
     "output_type": "stream",
     "text": [
      "dict_keys(['created_at', 'id', 'id_str', 'full_text', 'truncated', 'display_text_range', 'entities', 'extended_entities', 'source', 'in_reply_to_status_id', 'in_reply_to_status_id_str', 'in_reply_to_user_id', 'in_reply_to_user_id_str', 'in_reply_to_screen_name', 'user', 'geo', 'coordinates', 'place', 'contributors', 'is_quote_status', 'retweet_count', 'favorite_count', 'favorited', 'retweeted', 'possibly_sensitive', 'possibly_sensitive_appealable', 'lang'])\n"
     ]
    }
   ],
   "source": [
    "#see the overview of the data in the text file. We use break to read one line only and understand its structure\n",
    "# To achieve it, we convert the line into a json line, make a dictonary and see the keys and the values\n",
    "with open('tweet._json.txt', mode='r', encoding='utf-8') as file:\n",
    "    for line in file:\n",
    "        line_dict=dict(json.loads(line))\n",
    "        print(line_dict.keys())\n",
    "        break"
   ]
  },
  {
   "cell_type": "code",
   "execution_count": 7,
   "id": "acd25482",
   "metadata": {},
   "outputs": [
    {
     "name": "stdout",
     "output_type": "stream",
     "text": [
      "key:, created_at :::::: value:Tue Aug 01 16:23:56 +0000 2017\n",
      "key:, id :::::: value:892420643555336193\n",
      "key:, id_str :::::: value:892420643555336193\n",
      "key:, full_text :::::: value:This is Phineas. He's a mystical boy. Only ever appears in the hole of a donut. 13/10 https://t.co/MgUWQ76dJU\n",
      "key:, truncated :::::: value:False\n",
      "key:, display_text_range :::::: value:[0, 85]\n",
      "key:, entities :::::: value:{'hashtags': [], 'symbols': [], 'user_mentions': [], 'urls': [], 'media': [{'id': 892420639486877696, 'id_str': '892420639486877696', 'indices': [86, 109], 'media_url': 'http://pbs.twimg.com/media/DGKD1-bXoAAIAUK.jpg', 'media_url_https': 'https://pbs.twimg.com/media/DGKD1-bXoAAIAUK.jpg', 'url': 'https://t.co/MgUWQ76dJU', 'display_url': 'pic.twitter.com/MgUWQ76dJU', 'expanded_url': 'https://twitter.com/dog_rates/status/892420643555336193/photo/1', 'type': 'photo', 'sizes': {'thumb': {'w': 150, 'h': 150, 'resize': 'crop'}, 'medium': {'w': 540, 'h': 528, 'resize': 'fit'}, 'small': {'w': 540, 'h': 528, 'resize': 'fit'}, 'large': {'w': 540, 'h': 528, 'resize': 'fit'}}}]}\n",
      "key:, extended_entities :::::: value:{'media': [{'id': 892420639486877696, 'id_str': '892420639486877696', 'indices': [86, 109], 'media_url': 'http://pbs.twimg.com/media/DGKD1-bXoAAIAUK.jpg', 'media_url_https': 'https://pbs.twimg.com/media/DGKD1-bXoAAIAUK.jpg', 'url': 'https://t.co/MgUWQ76dJU', 'display_url': 'pic.twitter.com/MgUWQ76dJU', 'expanded_url': 'https://twitter.com/dog_rates/status/892420643555336193/photo/1', 'type': 'photo', 'sizes': {'thumb': {'w': 150, 'h': 150, 'resize': 'crop'}, 'medium': {'w': 540, 'h': 528, 'resize': 'fit'}, 'small': {'w': 540, 'h': 528, 'resize': 'fit'}, 'large': {'w': 540, 'h': 528, 'resize': 'fit'}}}]}\n",
      "key:, source :::::: value:<a href=\"http://twitter.com/download/iphone\" rel=\"nofollow\">Twitter for iPhone</a>\n",
      "key:, in_reply_to_status_id :::::: value:None\n",
      "key:, in_reply_to_status_id_str :::::: value:None\n",
      "key:, in_reply_to_user_id :::::: value:None\n",
      "key:, in_reply_to_user_id_str :::::: value:None\n",
      "key:, in_reply_to_screen_name :::::: value:None\n",
      "key:, user :::::: value:{'id': 4196983835, 'id_str': '4196983835', 'name': 'WeRateDogs®', 'screen_name': 'dog_rates', 'location': 'all our links ➜', 'description': 'Your Only Source For Professional Dog Ratings Instagram and Facebook ➜ WeRateDogs partnerships@weratedogs.com | nonprofit: @15outof10 ⠀⠀⠀⠀⠀⠀⠀⠀⠀⠀⠀⠀', 'url': 'https://t.co/YPc2Xq4Va2', 'entities': {'url': {'urls': [{'url': 'https://t.co/YPc2Xq4Va2', 'expanded_url': 'http://links.weratedogs.com', 'display_url': 'links.weratedogs.com', 'indices': [0, 23]}]}, 'description': {'urls': []}}, 'protected': False, 'followers_count': 9357331, 'friends_count': 21, 'listed_count': 7613, 'created_at': 'Sun Nov 15 21:41:29 +0000 2015', 'favourites_count': 147584, 'utc_offset': None, 'time_zone': None, 'geo_enabled': True, 'verified': True, 'statuses_count': 16179, 'lang': None, 'contributors_enabled': False, 'is_translator': False, 'is_translation_enabled': False, 'profile_background_color': '000000', 'profile_background_image_url': 'http://abs.twimg.com/images/themes/theme1/bg.png', 'profile_background_image_url_https': 'https://abs.twimg.com/images/themes/theme1/bg.png', 'profile_background_tile': False, 'profile_image_url': 'http://pbs.twimg.com/profile_images/1552995729014247425/TaJbIdmK_normal.jpg', 'profile_image_url_https': 'https://pbs.twimg.com/profile_images/1552995729014247425/TaJbIdmK_normal.jpg', 'profile_banner_url': 'https://pbs.twimg.com/profile_banners/4196983835/1661991479', 'profile_link_color': 'F5ABB5', 'profile_sidebar_border_color': '000000', 'profile_sidebar_fill_color': '000000', 'profile_text_color': '000000', 'profile_use_background_image': False, 'has_extended_profile': False, 'default_profile': False, 'default_profile_image': False, 'following': False, 'follow_request_sent': False, 'notifications': False, 'translator_type': 'none', 'withheld_in_countries': []}\n",
      "key:, geo :::::: value:None\n",
      "key:, coordinates :::::: value:None\n",
      "key:, place :::::: value:None\n",
      "key:, contributors :::::: value:None\n",
      "key:, is_quote_status :::::: value:False\n",
      "key:, retweet_count :::::: value:6973\n",
      "key:, favorite_count :::::: value:33700\n",
      "key:, favorited :::::: value:False\n",
      "key:, retweeted :::::: value:False\n",
      "key:, possibly_sensitive :::::: value:False\n",
      "key:, possibly_sensitive_appealable :::::: value:False\n",
      "key:, lang :::::: value:en\n"
     ]
    }
   ],
   "source": [
    "#Check important information to get from the tweet._json.text document.\n",
    "# show the key and values in the line dictionary\n",
    "for key,value in line_dict.items():\n",
    "    print('key:, {} :::::: value:{}'.format(key,value))"
   ]
  },
  {
   "cell_type": "code",
   "execution_count": 8,
   "id": "4812bd58",
   "metadata": {},
   "outputs": [],
   "source": [
    "#Create a list of dictionaries with the required information then use it to create a data frame\n",
    "additional_data_list=[]\n",
    "with open('tweet._json.txt', mode='r', encoding='utf-8') as file:\n",
    "    for line in file:\n",
    "        line_data=json.loads(line)\n",
    "        additional_data_list.append({'tweet_id' : line_data['id'],\n",
    "                                    'date_created' : line_data['created_at'],\n",
    "                                    'retweet_count' : line_data['retweet_count'],\n",
    "                                    'favorite_count' : line_data['favorite_count'],\n",
    "                                    'text':line_data['full_text']})\n",
    "additional_tweet_data=pd.DataFrame(additional_data_list)"
   ]
  },
  {
   "cell_type": "code",
   "execution_count": 9,
   "id": "4ef66c3f",
   "metadata": {
    "scrolled": true
   },
   "outputs": [
    {
     "data": {
      "text/html": [
       "<div>\n",
       "<style scoped>\n",
       "    .dataframe tbody tr th:only-of-type {\n",
       "        vertical-align: middle;\n",
       "    }\n",
       "\n",
       "    .dataframe tbody tr th {\n",
       "        vertical-align: top;\n",
       "    }\n",
       "\n",
       "    .dataframe thead th {\n",
       "        text-align: right;\n",
       "    }\n",
       "</style>\n",
       "<table border=\"1\" class=\"dataframe\">\n",
       "  <thead>\n",
       "    <tr style=\"text-align: right;\">\n",
       "      <th></th>\n",
       "      <th>tweet_id</th>\n",
       "      <th>date_created</th>\n",
       "      <th>retweet_count</th>\n",
       "      <th>favorite_count</th>\n",
       "      <th>text</th>\n",
       "    </tr>\n",
       "  </thead>\n",
       "  <tbody>\n",
       "    <tr>\n",
       "      <th>0</th>\n",
       "      <td>892420643555336193</td>\n",
       "      <td>Tue Aug 01 16:23:56 +0000 2017</td>\n",
       "      <td>6973</td>\n",
       "      <td>33700</td>\n",
       "      <td>This is Phineas. He's a mystical boy. Only eve...</td>\n",
       "    </tr>\n",
       "    <tr>\n",
       "      <th>1</th>\n",
       "      <td>892177421306343426</td>\n",
       "      <td>Tue Aug 01 00:17:27 +0000 2017</td>\n",
       "      <td>5275</td>\n",
       "      <td>29228</td>\n",
       "      <td>This is Tilly. She's just checking pup on you....</td>\n",
       "    </tr>\n",
       "    <tr>\n",
       "      <th>2</th>\n",
       "      <td>891815181378084864</td>\n",
       "      <td>Mon Jul 31 00:18:03 +0000 2017</td>\n",
       "      <td>3464</td>\n",
       "      <td>21975</td>\n",
       "      <td>This is Archie. He is a rare Norwegian Pouncin...</td>\n",
       "    </tr>\n",
       "    <tr>\n",
       "      <th>3</th>\n",
       "      <td>891689557279858688</td>\n",
       "      <td>Sun Jul 30 15:58:51 +0000 2017</td>\n",
       "      <td>7192</td>\n",
       "      <td>36794</td>\n",
       "      <td>This is Darla. She commenced a snooze mid meal...</td>\n",
       "    </tr>\n",
       "    <tr>\n",
       "      <th>4</th>\n",
       "      <td>891327558926688256</td>\n",
       "      <td>Sat Jul 29 16:00:24 +0000 2017</td>\n",
       "      <td>7719</td>\n",
       "      <td>35187</td>\n",
       "      <td>This is Franklin. He would like you to stop ca...</td>\n",
       "    </tr>\n",
       "  </tbody>\n",
       "</table>\n",
       "</div>"
      ],
      "text/plain": [
       "             tweet_id                    date_created  retweet_count  \\\n",
       "0  892420643555336193  Tue Aug 01 16:23:56 +0000 2017           6973   \n",
       "1  892177421306343426  Tue Aug 01 00:17:27 +0000 2017           5275   \n",
       "2  891815181378084864  Mon Jul 31 00:18:03 +0000 2017           3464   \n",
       "3  891689557279858688  Sun Jul 30 15:58:51 +0000 2017           7192   \n",
       "4  891327558926688256  Sat Jul 29 16:00:24 +0000 2017           7719   \n",
       "\n",
       "   favorite_count                                               text  \n",
       "0           33700  This is Phineas. He's a mystical boy. Only eve...  \n",
       "1           29228  This is Tilly. She's just checking pup on you....  \n",
       "2           21975  This is Archie. He is a rare Norwegian Pouncin...  \n",
       "3           36794  This is Darla. She commenced a snooze mid meal...  \n",
       "4           35187  This is Franklin. He would like you to stop ca...  "
      ]
     },
     "execution_count": 9,
     "metadata": {},
     "output_type": "execute_result"
    }
   ],
   "source": [
    "#Preview the data frame created\n",
    "additional_tweet_data.head()"
   ]
  },
  {
   "cell_type": "markdown",
   "id": "97351e2a",
   "metadata": {},
   "source": [
    "**III. Data set 3: Image prediction data**\n",
    "\n",
    "We programmatically extract the image prediction data from the link give"
   ]
  },
  {
   "cell_type": "code",
   "execution_count": 10,
   "id": "f7d01db7",
   "metadata": {},
   "outputs": [],
   "source": [
    "#use requests library to collect data from the given link\n",
    "url='https://d17h27t6h515a5.cloudfront.net/topher/2017/August/599fd2ad_image-predictions/image-predictions.tsv'\n",
    "response=requests.get(url)\n",
    "\n",
    "#create a file called image_predictions.tsv in our folder then write the contents of the file in it\n",
    "with open('image_predictions.tsv','wb') as file:\n",
    "    file.write(response.content) \n",
    "    "
   ]
  },
  {
   "cell_type": "markdown",
   "id": "ae47f0e1",
   "metadata": {},
   "source": [
    "**Details of the columns of the image-prediction data**\n",
    "\n",
    "tweet_id is the last part of the tweet URL after \"status/\" \n",
    "* → https://twitter.com/dog_rates/status/889531135344209921\n",
    "* p1 is the algorithm's #1 prediction for the image in the tweet → golden retriever\n",
    "* p1_conf is how confident the algorithm is in its #1 prediction → 95%\n",
    "* p1_dog is whether or not the #1 prediction is a breed of dog → TRUE\n",
    "* p2 is the algorithm's second most likely prediction → Labrador retriever\n",
    "* p2_conf is how confident the algorithm is in its #2 prediction → 1%\n",
    "* p2_dog is whether or not the #2 prediction is a breed of dog → TRUE"
   ]
  },
  {
   "cell_type": "code",
   "execution_count": 11,
   "id": "052bd5e9",
   "metadata": {},
   "outputs": [
    {
     "data": {
      "text/html": [
       "<div>\n",
       "<style scoped>\n",
       "    .dataframe tbody tr th:only-of-type {\n",
       "        vertical-align: middle;\n",
       "    }\n",
       "\n",
       "    .dataframe tbody tr th {\n",
       "        vertical-align: top;\n",
       "    }\n",
       "\n",
       "    .dataframe thead th {\n",
       "        text-align: right;\n",
       "    }\n",
       "</style>\n",
       "<table border=\"1\" class=\"dataframe\">\n",
       "  <thead>\n",
       "    <tr style=\"text-align: right;\">\n",
       "      <th></th>\n",
       "      <th>tweet_id</th>\n",
       "      <th>jpg_url</th>\n",
       "      <th>img_num</th>\n",
       "      <th>p1</th>\n",
       "      <th>p1_conf</th>\n",
       "      <th>p1_dog</th>\n",
       "      <th>p2</th>\n",
       "      <th>p2_conf</th>\n",
       "      <th>p2_dog</th>\n",
       "      <th>p3</th>\n",
       "      <th>p3_conf</th>\n",
       "      <th>p3_dog</th>\n",
       "    </tr>\n",
       "  </thead>\n",
       "  <tbody>\n",
       "    <tr>\n",
       "      <th>0</th>\n",
       "      <td>666020888022790149</td>\n",
       "      <td>https://pbs.twimg.com/media/CT4udn0WwAA0aMy.jpg</td>\n",
       "      <td>1</td>\n",
       "      <td>Welsh_springer_spaniel</td>\n",
       "      <td>0.465074</td>\n",
       "      <td>True</td>\n",
       "      <td>collie</td>\n",
       "      <td>0.156665</td>\n",
       "      <td>True</td>\n",
       "      <td>Shetland_sheepdog</td>\n",
       "      <td>0.061428</td>\n",
       "      <td>True</td>\n",
       "    </tr>\n",
       "    <tr>\n",
       "      <th>1</th>\n",
       "      <td>666029285002620928</td>\n",
       "      <td>https://pbs.twimg.com/media/CT42GRgUYAA5iDo.jpg</td>\n",
       "      <td>1</td>\n",
       "      <td>redbone</td>\n",
       "      <td>0.506826</td>\n",
       "      <td>True</td>\n",
       "      <td>miniature_pinscher</td>\n",
       "      <td>0.074192</td>\n",
       "      <td>True</td>\n",
       "      <td>Rhodesian_ridgeback</td>\n",
       "      <td>0.072010</td>\n",
       "      <td>True</td>\n",
       "    </tr>\n",
       "  </tbody>\n",
       "</table>\n",
       "</div>"
      ],
      "text/plain": [
       "             tweet_id                                          jpg_url  \\\n",
       "0  666020888022790149  https://pbs.twimg.com/media/CT4udn0WwAA0aMy.jpg   \n",
       "1  666029285002620928  https://pbs.twimg.com/media/CT42GRgUYAA5iDo.jpg   \n",
       "\n",
       "   img_num                      p1   p1_conf  p1_dog                  p2  \\\n",
       "0        1  Welsh_springer_spaniel  0.465074    True              collie   \n",
       "1        1                 redbone  0.506826    True  miniature_pinscher   \n",
       "\n",
       "    p2_conf  p2_dog                   p3   p3_conf  p3_dog  \n",
       "0  0.156665    True    Shetland_sheepdog  0.061428    True  \n",
       "1  0.074192    True  Rhodesian_ridgeback  0.072010    True  "
      ]
     },
     "execution_count": 11,
     "metadata": {},
     "output_type": "execute_result"
    }
   ],
   "source": [
    "# extract file from the tsv format to a pd DataFrame and preview it\n",
    "image_predict_data=pd.read_csv('image_predictions.tsv', sep='\\t')\n",
    "image_predict_data.head(2)\n"
   ]
  },
  {
   "cell_type": "markdown",
   "id": "7c79d8f4",
   "metadata": {},
   "source": [
    "<a id='assess'> </a> \n",
    "       \n",
    "## Assess data\n",
    "In this section, we will list a number of quality and tidiness issues that we are going to carry out on our data sets. Firs we visually have a look at the data, then later programmatically then single out and note the issues that we are going to clean."
   ]
  },
  {
   "cell_type": "code",
   "execution_count": 12,
   "id": "ecd92c58",
   "metadata": {},
   "outputs": [
    {
     "data": {
      "text/html": [
       "<div>\n",
       "<style scoped>\n",
       "    .dataframe tbody tr th:only-of-type {\n",
       "        vertical-align: middle;\n",
       "    }\n",
       "\n",
       "    .dataframe tbody tr th {\n",
       "        vertical-align: top;\n",
       "    }\n",
       "\n",
       "    .dataframe thead th {\n",
       "        text-align: right;\n",
       "    }\n",
       "</style>\n",
       "<table border=\"1\" class=\"dataframe\">\n",
       "  <thead>\n",
       "    <tr style=\"text-align: right;\">\n",
       "      <th></th>\n",
       "      <th>tweet_id</th>\n",
       "      <th>date_created</th>\n",
       "      <th>retweet_count</th>\n",
       "      <th>favorite_count</th>\n",
       "      <th>text</th>\n",
       "    </tr>\n",
       "  </thead>\n",
       "  <tbody>\n",
       "    <tr>\n",
       "      <th>0</th>\n",
       "      <td>892420643555336193</td>\n",
       "      <td>Tue Aug 01 16:23:56 +0000 2017</td>\n",
       "      <td>6973</td>\n",
       "      <td>33700</td>\n",
       "      <td>This is Phineas. He's a mystical boy. Only eve...</td>\n",
       "    </tr>\n",
       "    <tr>\n",
       "      <th>1</th>\n",
       "      <td>892177421306343426</td>\n",
       "      <td>Tue Aug 01 00:17:27 +0000 2017</td>\n",
       "      <td>5275</td>\n",
       "      <td>29228</td>\n",
       "      <td>This is Tilly. She's just checking pup on you....</td>\n",
       "    </tr>\n",
       "    <tr>\n",
       "      <th>2</th>\n",
       "      <td>891815181378084864</td>\n",
       "      <td>Mon Jul 31 00:18:03 +0000 2017</td>\n",
       "      <td>3464</td>\n",
       "      <td>21975</td>\n",
       "      <td>This is Archie. He is a rare Norwegian Pouncin...</td>\n",
       "    </tr>\n",
       "    <tr>\n",
       "      <th>3</th>\n",
       "      <td>891689557279858688</td>\n",
       "      <td>Sun Jul 30 15:58:51 +0000 2017</td>\n",
       "      <td>7192</td>\n",
       "      <td>36794</td>\n",
       "      <td>This is Darla. She commenced a snooze mid meal...</td>\n",
       "    </tr>\n",
       "    <tr>\n",
       "      <th>4</th>\n",
       "      <td>891327558926688256</td>\n",
       "      <td>Sat Jul 29 16:00:24 +0000 2017</td>\n",
       "      <td>7719</td>\n",
       "      <td>35187</td>\n",
       "      <td>This is Franklin. He would like you to stop ca...</td>\n",
       "    </tr>\n",
       "  </tbody>\n",
       "</table>\n",
       "</div>"
      ],
      "text/plain": [
       "             tweet_id                    date_created  retweet_count  \\\n",
       "0  892420643555336193  Tue Aug 01 16:23:56 +0000 2017           6973   \n",
       "1  892177421306343426  Tue Aug 01 00:17:27 +0000 2017           5275   \n",
       "2  891815181378084864  Mon Jul 31 00:18:03 +0000 2017           3464   \n",
       "3  891689557279858688  Sun Jul 30 15:58:51 +0000 2017           7192   \n",
       "4  891327558926688256  Sat Jul 29 16:00:24 +0000 2017           7719   \n",
       "\n",
       "   favorite_count                                               text  \n",
       "0           33700  This is Phineas. He's a mystical boy. Only eve...  \n",
       "1           29228  This is Tilly. She's just checking pup on you....  \n",
       "2           21975  This is Archie. He is a rare Norwegian Pouncin...  \n",
       "3           36794  This is Darla. She commenced a snooze mid meal...  \n",
       "4           35187  This is Franklin. He would like you to stop ca...  "
      ]
     },
     "execution_count": 12,
     "metadata": {},
     "output_type": "execute_result"
    }
   ],
   "source": [
    "#Preview additional_tweet_data \n",
    "additional_tweet_data.head()"
   ]
  },
  {
   "cell_type": "code",
   "execution_count": 13,
   "id": "e02e724c",
   "metadata": {
    "scrolled": true
   },
   "outputs": [
    {
     "data": {
      "text/html": [
       "<div>\n",
       "<style scoped>\n",
       "    .dataframe tbody tr th:only-of-type {\n",
       "        vertical-align: middle;\n",
       "    }\n",
       "\n",
       "    .dataframe tbody tr th {\n",
       "        vertical-align: top;\n",
       "    }\n",
       "\n",
       "    .dataframe thead th {\n",
       "        text-align: right;\n",
       "    }\n",
       "</style>\n",
       "<table border=\"1\" class=\"dataframe\">\n",
       "  <thead>\n",
       "    <tr style=\"text-align: right;\">\n",
       "      <th></th>\n",
       "      <th>tweet_id</th>\n",
       "      <th>in_reply_to_status_id</th>\n",
       "      <th>in_reply_to_user_id</th>\n",
       "      <th>timestamp</th>\n",
       "      <th>source</th>\n",
       "      <th>text</th>\n",
       "      <th>retweeted_status_id</th>\n",
       "      <th>retweeted_status_user_id</th>\n",
       "      <th>retweeted_status_timestamp</th>\n",
       "      <th>expanded_urls</th>\n",
       "      <th>rating_numerator</th>\n",
       "      <th>rating_denominator</th>\n",
       "      <th>name</th>\n",
       "      <th>doggo</th>\n",
       "      <th>floofer</th>\n",
       "      <th>pupper</th>\n",
       "      <th>puppo</th>\n",
       "    </tr>\n",
       "  </thead>\n",
       "  <tbody>\n",
       "    <tr>\n",
       "      <th>0</th>\n",
       "      <td>892420643555336193</td>\n",
       "      <td>NaN</td>\n",
       "      <td>NaN</td>\n",
       "      <td>2017-08-01 16:23:56 +0000</td>\n",
       "      <td>&lt;a href=\"http://twitter.com/download/iphone\" r...</td>\n",
       "      <td>This is Phineas. He's a mystical boy. Only eve...</td>\n",
       "      <td>NaN</td>\n",
       "      <td>NaN</td>\n",
       "      <td>NaN</td>\n",
       "      <td>https://twitter.com/dog_rates/status/892420643...</td>\n",
       "      <td>13</td>\n",
       "      <td>10</td>\n",
       "      <td>Phineas</td>\n",
       "      <td>None</td>\n",
       "      <td>None</td>\n",
       "      <td>None</td>\n",
       "      <td>None</td>\n",
       "    </tr>\n",
       "    <tr>\n",
       "      <th>1</th>\n",
       "      <td>892177421306343426</td>\n",
       "      <td>NaN</td>\n",
       "      <td>NaN</td>\n",
       "      <td>2017-08-01 00:17:27 +0000</td>\n",
       "      <td>&lt;a href=\"http://twitter.com/download/iphone\" r...</td>\n",
       "      <td>This is Tilly. She's just checking pup on you....</td>\n",
       "      <td>NaN</td>\n",
       "      <td>NaN</td>\n",
       "      <td>NaN</td>\n",
       "      <td>https://twitter.com/dog_rates/status/892177421...</td>\n",
       "      <td>13</td>\n",
       "      <td>10</td>\n",
       "      <td>Tilly</td>\n",
       "      <td>None</td>\n",
       "      <td>None</td>\n",
       "      <td>None</td>\n",
       "      <td>None</td>\n",
       "    </tr>\n",
       "    <tr>\n",
       "      <th>2</th>\n",
       "      <td>891815181378084864</td>\n",
       "      <td>NaN</td>\n",
       "      <td>NaN</td>\n",
       "      <td>2017-07-31 00:18:03 +0000</td>\n",
       "      <td>&lt;a href=\"http://twitter.com/download/iphone\" r...</td>\n",
       "      <td>This is Archie. He is a rare Norwegian Pouncin...</td>\n",
       "      <td>NaN</td>\n",
       "      <td>NaN</td>\n",
       "      <td>NaN</td>\n",
       "      <td>https://twitter.com/dog_rates/status/891815181...</td>\n",
       "      <td>12</td>\n",
       "      <td>10</td>\n",
       "      <td>Archie</td>\n",
       "      <td>None</td>\n",
       "      <td>None</td>\n",
       "      <td>None</td>\n",
       "      <td>None</td>\n",
       "    </tr>\n",
       "  </tbody>\n",
       "</table>\n",
       "</div>"
      ],
      "text/plain": [
       "             tweet_id  in_reply_to_status_id  in_reply_to_user_id  \\\n",
       "0  892420643555336193                    NaN                  NaN   \n",
       "1  892177421306343426                    NaN                  NaN   \n",
       "2  891815181378084864                    NaN                  NaN   \n",
       "\n",
       "                   timestamp  \\\n",
       "0  2017-08-01 16:23:56 +0000   \n",
       "1  2017-08-01 00:17:27 +0000   \n",
       "2  2017-07-31 00:18:03 +0000   \n",
       "\n",
       "                                              source  \\\n",
       "0  <a href=\"http://twitter.com/download/iphone\" r...   \n",
       "1  <a href=\"http://twitter.com/download/iphone\" r...   \n",
       "2  <a href=\"http://twitter.com/download/iphone\" r...   \n",
       "\n",
       "                                                text  retweeted_status_id  \\\n",
       "0  This is Phineas. He's a mystical boy. Only eve...                  NaN   \n",
       "1  This is Tilly. She's just checking pup on you....                  NaN   \n",
       "2  This is Archie. He is a rare Norwegian Pouncin...                  NaN   \n",
       "\n",
       "   retweeted_status_user_id retweeted_status_timestamp  \\\n",
       "0                       NaN                        NaN   \n",
       "1                       NaN                        NaN   \n",
       "2                       NaN                        NaN   \n",
       "\n",
       "                                       expanded_urls  rating_numerator  \\\n",
       "0  https://twitter.com/dog_rates/status/892420643...                13   \n",
       "1  https://twitter.com/dog_rates/status/892177421...                13   \n",
       "2  https://twitter.com/dog_rates/status/891815181...                12   \n",
       "\n",
       "   rating_denominator     name doggo floofer pupper puppo  \n",
       "0                  10  Phineas  None    None   None  None  \n",
       "1                  10    Tilly  None    None   None  None  \n",
       "2                  10   Archie  None    None   None  None  "
      ]
     },
     "execution_count": 13,
     "metadata": {},
     "output_type": "execute_result"
    }
   ],
   "source": [
    "#Preview twitter_archive_data\n",
    "twitter_archive_data.head(3)"
   ]
  },
  {
   "cell_type": "code",
   "execution_count": 14,
   "id": "94443e00",
   "metadata": {},
   "outputs": [
    {
     "data": {
      "text/html": [
       "<div>\n",
       "<style scoped>\n",
       "    .dataframe tbody tr th:only-of-type {\n",
       "        vertical-align: middle;\n",
       "    }\n",
       "\n",
       "    .dataframe tbody tr th {\n",
       "        vertical-align: top;\n",
       "    }\n",
       "\n",
       "    .dataframe thead th {\n",
       "        text-align: right;\n",
       "    }\n",
       "</style>\n",
       "<table border=\"1\" class=\"dataframe\">\n",
       "  <thead>\n",
       "    <tr style=\"text-align: right;\">\n",
       "      <th></th>\n",
       "      <th>tweet_id</th>\n",
       "      <th>jpg_url</th>\n",
       "      <th>img_num</th>\n",
       "      <th>p1</th>\n",
       "      <th>p1_conf</th>\n",
       "      <th>p1_dog</th>\n",
       "      <th>p2</th>\n",
       "      <th>p2_conf</th>\n",
       "      <th>p2_dog</th>\n",
       "      <th>p3</th>\n",
       "      <th>p3_conf</th>\n",
       "      <th>p3_dog</th>\n",
       "    </tr>\n",
       "  </thead>\n",
       "  <tbody>\n",
       "    <tr>\n",
       "      <th>0</th>\n",
       "      <td>666020888022790149</td>\n",
       "      <td>https://pbs.twimg.com/media/CT4udn0WwAA0aMy.jpg</td>\n",
       "      <td>1</td>\n",
       "      <td>Welsh_springer_spaniel</td>\n",
       "      <td>0.465074</td>\n",
       "      <td>True</td>\n",
       "      <td>collie</td>\n",
       "      <td>0.156665</td>\n",
       "      <td>True</td>\n",
       "      <td>Shetland_sheepdog</td>\n",
       "      <td>0.061428</td>\n",
       "      <td>True</td>\n",
       "    </tr>\n",
       "    <tr>\n",
       "      <th>1</th>\n",
       "      <td>666029285002620928</td>\n",
       "      <td>https://pbs.twimg.com/media/CT42GRgUYAA5iDo.jpg</td>\n",
       "      <td>1</td>\n",
       "      <td>redbone</td>\n",
       "      <td>0.506826</td>\n",
       "      <td>True</td>\n",
       "      <td>miniature_pinscher</td>\n",
       "      <td>0.074192</td>\n",
       "      <td>True</td>\n",
       "      <td>Rhodesian_ridgeback</td>\n",
       "      <td>0.072010</td>\n",
       "      <td>True</td>\n",
       "    </tr>\n",
       "    <tr>\n",
       "      <th>2</th>\n",
       "      <td>666033412701032449</td>\n",
       "      <td>https://pbs.twimg.com/media/CT4521TWwAEvMyu.jpg</td>\n",
       "      <td>1</td>\n",
       "      <td>German_shepherd</td>\n",
       "      <td>0.596461</td>\n",
       "      <td>True</td>\n",
       "      <td>malinois</td>\n",
       "      <td>0.138584</td>\n",
       "      <td>True</td>\n",
       "      <td>bloodhound</td>\n",
       "      <td>0.116197</td>\n",
       "      <td>True</td>\n",
       "    </tr>\n",
       "  </tbody>\n",
       "</table>\n",
       "</div>"
      ],
      "text/plain": [
       "             tweet_id                                          jpg_url  \\\n",
       "0  666020888022790149  https://pbs.twimg.com/media/CT4udn0WwAA0aMy.jpg   \n",
       "1  666029285002620928  https://pbs.twimg.com/media/CT42GRgUYAA5iDo.jpg   \n",
       "2  666033412701032449  https://pbs.twimg.com/media/CT4521TWwAEvMyu.jpg   \n",
       "\n",
       "   img_num                      p1   p1_conf  p1_dog                  p2  \\\n",
       "0        1  Welsh_springer_spaniel  0.465074    True              collie   \n",
       "1        1                 redbone  0.506826    True  miniature_pinscher   \n",
       "2        1         German_shepherd  0.596461    True            malinois   \n",
       "\n",
       "    p2_conf  p2_dog                   p3   p3_conf  p3_dog  \n",
       "0  0.156665    True    Shetland_sheepdog  0.061428    True  \n",
       "1  0.074192    True  Rhodesian_ridgeback  0.072010    True  \n",
       "2  0.138584    True           bloodhound  0.116197    True  "
      ]
     },
     "execution_count": 14,
     "metadata": {},
     "output_type": "execute_result"
    }
   ],
   "source": [
    "#Preview image_predict_dat\n",
    "image_predict_data.head(3)"
   ]
  },
  {
   "cell_type": "code",
   "execution_count": 15,
   "id": "51746a75",
   "metadata": {},
   "outputs": [
    {
     "data": {
      "text/plain": [
       "\"Here's a puppo that seems to be on the fence about something haha no but seriously someone help her. 13/10 https://t.co/BxvuXk0UCm\""
      ]
     },
     "execution_count": 15,
     "metadata": {},
     "output_type": "execute_result"
    }
   ],
   "source": [
    "#Preview a line of tweet in the text from the text twitter_archive_data\n",
    "twitter_archive_data['text'][12]"
   ]
  },
  {
   "cell_type": "code",
   "execution_count": 16,
   "id": "5f4dc1e2",
   "metadata": {},
   "outputs": [
    {
     "name": "stdout",
     "output_type": "stream",
     "text": [
      "<class 'pandas.core.frame.DataFrame'>\n",
      "RangeIndex: 2356 entries, 0 to 2355\n",
      "Data columns (total 17 columns):\n",
      " #   Column                      Non-Null Count  Dtype  \n",
      "---  ------                      --------------  -----  \n",
      " 0   tweet_id                    2356 non-null   int64  \n",
      " 1   in_reply_to_status_id       78 non-null     float64\n",
      " 2   in_reply_to_user_id         78 non-null     float64\n",
      " 3   timestamp                   2356 non-null   object \n",
      " 4   source                      2356 non-null   object \n",
      " 5   text                        2356 non-null   object \n",
      " 6   retweeted_status_id         181 non-null    float64\n",
      " 7   retweeted_status_user_id    181 non-null    float64\n",
      " 8   retweeted_status_timestamp  181 non-null    object \n",
      " 9   expanded_urls               2297 non-null   object \n",
      " 10  rating_numerator            2356 non-null   int64  \n",
      " 11  rating_denominator          2356 non-null   int64  \n",
      " 12  name                        2356 non-null   object \n",
      " 13  doggo                       2356 non-null   object \n",
      " 14  floofer                     2356 non-null   object \n",
      " 15  pupper                      2356 non-null   object \n",
      " 16  puppo                       2356 non-null   object \n",
      "dtypes: float64(4), int64(3), object(10)\n",
      "memory usage: 313.0+ KB\n"
     ]
    }
   ],
   "source": [
    "#Column summaries\n",
    "twitter_archive_data.info()"
   ]
  },
  {
   "cell_type": "code",
   "execution_count": 17,
   "id": "8a5a0aaa",
   "metadata": {},
   "outputs": [
    {
     "name": "stdout",
     "output_type": "stream",
     "text": [
      "<class 'pandas.core.frame.DataFrame'>\n",
      "RangeIndex: 2327 entries, 0 to 2326\n",
      "Data columns (total 5 columns):\n",
      " #   Column          Non-Null Count  Dtype \n",
      "---  ------          --------------  ----- \n",
      " 0   tweet_id        2327 non-null   int64 \n",
      " 1   date_created    2327 non-null   object\n",
      " 2   retweet_count   2327 non-null   int64 \n",
      " 3   favorite_count  2327 non-null   int64 \n",
      " 4   text            2327 non-null   object\n",
      "dtypes: int64(3), object(2)\n",
      "memory usage: 91.0+ KB\n"
     ]
    }
   ],
   "source": [
    "#Column summaries\n",
    "additional_tweet_data.info()"
   ]
  },
  {
   "cell_type": "code",
   "execution_count": 18,
   "id": "4cbecdff",
   "metadata": {},
   "outputs": [
    {
     "name": "stdout",
     "output_type": "stream",
     "text": [
      "<class 'pandas.core.frame.DataFrame'>\n",
      "RangeIndex: 2075 entries, 0 to 2074\n",
      "Data columns (total 12 columns):\n",
      " #   Column    Non-Null Count  Dtype  \n",
      "---  ------    --------------  -----  \n",
      " 0   tweet_id  2075 non-null   int64  \n",
      " 1   jpg_url   2075 non-null   object \n",
      " 2   img_num   2075 non-null   int64  \n",
      " 3   p1        2075 non-null   object \n",
      " 4   p1_conf   2075 non-null   float64\n",
      " 5   p1_dog    2075 non-null   bool   \n",
      " 6   p2        2075 non-null   object \n",
      " 7   p2_conf   2075 non-null   float64\n",
      " 8   p2_dog    2075 non-null   bool   \n",
      " 9   p3        2075 non-null   object \n",
      " 10  p3_conf   2075 non-null   float64\n",
      " 11  p3_dog    2075 non-null   bool   \n",
      "dtypes: bool(3), float64(3), int64(2), object(4)\n",
      "memory usage: 152.1+ KB\n"
     ]
    }
   ],
   "source": [
    "#Column summaries\n",
    "image_predict_data.info()"
   ]
  },
  {
   "cell_type": "markdown",
   "id": "cb9043b5",
   "metadata": {},
   "source": [
    "Having used twitter ids from twitter_archive_data to get data from the twitter API and got a new data having tweet text, favourite counts, rating, the number of retweets and the timestamp, it is okay cleaning the new data. Since the ratings and the name of the dogs have to be extracted a fresh as tipped in the description of the project and the these data must have the corresponding favourite counts and number of retweets, its wish working with the new data aquired and the image-prediction data only. To achieve the master data required to do the analysis, it will be necessary to utilize the twitter ids only, from the image-prediction and no other column from that data set. The following are the sets of the issues that we will clean.\n",
    "\n",
    "### Quality Issues\n",
    "##### additional_tweet_data\n",
    "* Convert the data type of the extracted dog rating from string to integer\n",
    "* Drop rows whose dog ratings have no numeric value(have an empty string)\n",
    "* Adopt a new name for the dog rating. A name that is going to signify the type of value we have in the column (x0.1)\n",
    "* Drop rows that goes beyond 2017\n",
    "* Drop the id, date columns and text column\n",
    "* Rename the columns of the new data frame formed after combinining the extracted data and the original data\n",
    "* Clean the dogs name column to ensure that no row has two dog names\n",
    "* Remove the texts quotation(') texts from the names of the of the dogs extracted\n",
    "\n",
    "\n",
    "### Tideness Issues\n",
    "##### additional_tweet_data\n",
    "* Extract dog ratings from the text column\n",
    "* Extract dog names ratings from the text column\n",
    "* Extract years from the timestamp column\n",
    "\n",
    "##### additional_tweet_data and image_predict_data\n",
    "* Create one table for the observational unit. We will ensure that the rows in the final data have a tweet id that is in both tables. This is to ensure that we analyse original tweets, that is tweets having images only\n",
    "\n",
    "\n",
    "\n",
    " "
   ]
  },
  {
   "cell_type": "markdown",
   "id": "da6f42c9",
   "metadata": {},
   "source": [
    "<a id='clean'></a>\n",
    "## Clean data\n",
    "In this section, we make a copy of the data then clean them based on the issues Identified above the save the final data as a *twitter_archive_master.csv*."
   ]
  },
  {
   "cell_type": "code",
   "execution_count": 19,
   "id": "60a59d4a",
   "metadata": {},
   "outputs": [],
   "source": [
    "#make copies of the copy data\n",
    "clean_twitter_archive=twitter_archive_data.copy()\n",
    "clean_image_predict=image_predict_data.copy()\n",
    "clean_more_tweet_data=additional_tweet_data.copy()"
   ]
  },
  {
   "cell_type": "code",
   "execution_count": 20,
   "id": "05b7885f",
   "metadata": {},
   "outputs": [
    {
     "data": {
      "text/plain": [
       "Index(['tweet_id', 'in_reply_to_status_id', 'in_reply_to_user_id', 'timestamp',\n",
       "       'source', 'text', 'retweeted_status_id', 'retweeted_status_user_id',\n",
       "       'retweeted_status_timestamp', 'expanded_urls', 'rating_numerator',\n",
       "       'rating_denominator', 'name', 'doggo', 'floofer', 'pupper', 'puppo'],\n",
       "      dtype='object')"
      ]
     },
     "execution_count": 20,
     "metadata": {},
     "output_type": "execute_result"
    }
   ],
   "source": [
    "# Preview the columns of each table\n",
    "clean_twitter_archive.columns"
   ]
  },
  {
   "cell_type": "code",
   "execution_count": 21,
   "id": "0b3cde44",
   "metadata": {},
   "outputs": [
    {
     "data": {
      "text/html": [
       "<div>\n",
       "<style scoped>\n",
       "    .dataframe tbody tr th:only-of-type {\n",
       "        vertical-align: middle;\n",
       "    }\n",
       "\n",
       "    .dataframe tbody tr th {\n",
       "        vertical-align: top;\n",
       "    }\n",
       "\n",
       "    .dataframe thead th {\n",
       "        text-align: right;\n",
       "    }\n",
       "</style>\n",
       "<table border=\"1\" class=\"dataframe\">\n",
       "  <thead>\n",
       "    <tr style=\"text-align: right;\">\n",
       "      <th></th>\n",
       "      <th>tweet_id</th>\n",
       "      <th>in_reply_to_status_id</th>\n",
       "      <th>in_reply_to_user_id</th>\n",
       "      <th>timestamp</th>\n",
       "      <th>source</th>\n",
       "      <th>text</th>\n",
       "      <th>retweeted_status_id</th>\n",
       "      <th>retweeted_status_user_id</th>\n",
       "      <th>retweeted_status_timestamp</th>\n",
       "      <th>expanded_urls</th>\n",
       "      <th>rating_numerator</th>\n",
       "      <th>rating_denominator</th>\n",
       "      <th>name</th>\n",
       "      <th>doggo</th>\n",
       "      <th>floofer</th>\n",
       "      <th>pupper</th>\n",
       "      <th>puppo</th>\n",
       "    </tr>\n",
       "  </thead>\n",
       "  <tbody>\n",
       "    <tr>\n",
       "      <th>0</th>\n",
       "      <td>892420643555336193</td>\n",
       "      <td>NaN</td>\n",
       "      <td>NaN</td>\n",
       "      <td>2017-08-01 16:23:56 +0000</td>\n",
       "      <td>&lt;a href=\"http://twitter.com/download/iphone\" r...</td>\n",
       "      <td>This is Phineas. He's a mystical boy. Only eve...</td>\n",
       "      <td>NaN</td>\n",
       "      <td>NaN</td>\n",
       "      <td>NaN</td>\n",
       "      <td>https://twitter.com/dog_rates/status/892420643...</td>\n",
       "      <td>13</td>\n",
       "      <td>10</td>\n",
       "      <td>Phineas</td>\n",
       "      <td>None</td>\n",
       "      <td>None</td>\n",
       "      <td>None</td>\n",
       "      <td>None</td>\n",
       "    </tr>\n",
       "    <tr>\n",
       "      <th>1</th>\n",
       "      <td>892177421306343426</td>\n",
       "      <td>NaN</td>\n",
       "      <td>NaN</td>\n",
       "      <td>2017-08-01 00:17:27 +0000</td>\n",
       "      <td>&lt;a href=\"http://twitter.com/download/iphone\" r...</td>\n",
       "      <td>This is Tilly. She's just checking pup on you....</td>\n",
       "      <td>NaN</td>\n",
       "      <td>NaN</td>\n",
       "      <td>NaN</td>\n",
       "      <td>https://twitter.com/dog_rates/status/892177421...</td>\n",
       "      <td>13</td>\n",
       "      <td>10</td>\n",
       "      <td>Tilly</td>\n",
       "      <td>None</td>\n",
       "      <td>None</td>\n",
       "      <td>None</td>\n",
       "      <td>None</td>\n",
       "    </tr>\n",
       "  </tbody>\n",
       "</table>\n",
       "</div>"
      ],
      "text/plain": [
       "             tweet_id  in_reply_to_status_id  in_reply_to_user_id  \\\n",
       "0  892420643555336193                    NaN                  NaN   \n",
       "1  892177421306343426                    NaN                  NaN   \n",
       "\n",
       "                   timestamp  \\\n",
       "0  2017-08-01 16:23:56 +0000   \n",
       "1  2017-08-01 00:17:27 +0000   \n",
       "\n",
       "                                              source  \\\n",
       "0  <a href=\"http://twitter.com/download/iphone\" r...   \n",
       "1  <a href=\"http://twitter.com/download/iphone\" r...   \n",
       "\n",
       "                                                text  retweeted_status_id  \\\n",
       "0  This is Phineas. He's a mystical boy. Only eve...                  NaN   \n",
       "1  This is Tilly. She's just checking pup on you....                  NaN   \n",
       "\n",
       "   retweeted_status_user_id retweeted_status_timestamp  \\\n",
       "0                       NaN                        NaN   \n",
       "1                       NaN                        NaN   \n",
       "\n",
       "                                       expanded_urls  rating_numerator  \\\n",
       "0  https://twitter.com/dog_rates/status/892420643...                13   \n",
       "1  https://twitter.com/dog_rates/status/892177421...                13   \n",
       "\n",
       "   rating_denominator     name doggo floofer pupper puppo  \n",
       "0                  10  Phineas  None    None   None  None  \n",
       "1                  10    Tilly  None    None   None  None  "
      ]
     },
     "execution_count": 21,
     "metadata": {},
     "output_type": "execute_result"
    }
   ],
   "source": [
    "clean_twitter_archive.head(2)"
   ]
  },
  {
   "cell_type": "code",
   "execution_count": 22,
   "id": "057111ba",
   "metadata": {},
   "outputs": [
    {
     "data": {
      "text/html": [
       "<div>\n",
       "<style scoped>\n",
       "    .dataframe tbody tr th:only-of-type {\n",
       "        vertical-align: middle;\n",
       "    }\n",
       "\n",
       "    .dataframe tbody tr th {\n",
       "        vertical-align: top;\n",
       "    }\n",
       "\n",
       "    .dataframe thead th {\n",
       "        text-align: right;\n",
       "    }\n",
       "</style>\n",
       "<table border=\"1\" class=\"dataframe\">\n",
       "  <thead>\n",
       "    <tr style=\"text-align: right;\">\n",
       "      <th></th>\n",
       "      <th>tweet_id</th>\n",
       "      <th>date_created</th>\n",
       "      <th>retweet_count</th>\n",
       "      <th>favorite_count</th>\n",
       "      <th>text</th>\n",
       "    </tr>\n",
       "  </thead>\n",
       "  <tbody>\n",
       "    <tr>\n",
       "      <th>0</th>\n",
       "      <td>892420643555336193</td>\n",
       "      <td>Tue Aug 01 16:23:56 +0000 2017</td>\n",
       "      <td>6973</td>\n",
       "      <td>33700</td>\n",
       "      <td>This is Phineas. He's a mystical boy. Only eve...</td>\n",
       "    </tr>\n",
       "    <tr>\n",
       "      <th>1</th>\n",
       "      <td>892177421306343426</td>\n",
       "      <td>Tue Aug 01 00:17:27 +0000 2017</td>\n",
       "      <td>5275</td>\n",
       "      <td>29228</td>\n",
       "      <td>This is Tilly. She's just checking pup on you....</td>\n",
       "    </tr>\n",
       "    <tr>\n",
       "      <th>2</th>\n",
       "      <td>891815181378084864</td>\n",
       "      <td>Mon Jul 31 00:18:03 +0000 2017</td>\n",
       "      <td>3464</td>\n",
       "      <td>21975</td>\n",
       "      <td>This is Archie. He is a rare Norwegian Pouncin...</td>\n",
       "    </tr>\n",
       "    <tr>\n",
       "      <th>3</th>\n",
       "      <td>891689557279858688</td>\n",
       "      <td>Sun Jul 30 15:58:51 +0000 2017</td>\n",
       "      <td>7192</td>\n",
       "      <td>36794</td>\n",
       "      <td>This is Darla. She commenced a snooze mid meal...</td>\n",
       "    </tr>\n",
       "    <tr>\n",
       "      <th>4</th>\n",
       "      <td>891327558926688256</td>\n",
       "      <td>Sat Jul 29 16:00:24 +0000 2017</td>\n",
       "      <td>7719</td>\n",
       "      <td>35187</td>\n",
       "      <td>This is Franklin. He would like you to stop ca...</td>\n",
       "    </tr>\n",
       "  </tbody>\n",
       "</table>\n",
       "</div>"
      ],
      "text/plain": [
       "             tweet_id                    date_created  retweet_count  \\\n",
       "0  892420643555336193  Tue Aug 01 16:23:56 +0000 2017           6973   \n",
       "1  892177421306343426  Tue Aug 01 00:17:27 +0000 2017           5275   \n",
       "2  891815181378084864  Mon Jul 31 00:18:03 +0000 2017           3464   \n",
       "3  891689557279858688  Sun Jul 30 15:58:51 +0000 2017           7192   \n",
       "4  891327558926688256  Sat Jul 29 16:00:24 +0000 2017           7719   \n",
       "\n",
       "   favorite_count                                               text  \n",
       "0           33700  This is Phineas. He's a mystical boy. Only eve...  \n",
       "1           29228  This is Tilly. She's just checking pup on you....  \n",
       "2           21975  This is Archie. He is a rare Norwegian Pouncin...  \n",
       "3           36794  This is Darla. She commenced a snooze mid meal...  \n",
       "4           35187  This is Franklin. He would like you to stop ca...  "
      ]
     },
     "execution_count": 22,
     "metadata": {},
     "output_type": "execute_result"
    }
   ],
   "source": [
    "clean_more_tweet_data.head()"
   ]
  },
  {
   "cell_type": "code",
   "execution_count": 23,
   "id": "77d874ff",
   "metadata": {},
   "outputs": [
    {
     "data": {
      "text/plain": [
       "(2327, 5)"
      ]
     },
     "execution_count": 23,
     "metadata": {},
     "output_type": "execute_result"
    }
   ],
   "source": [
    "clean_more_tweet_data.shape"
   ]
  },
  {
   "cell_type": "code",
   "execution_count": 24,
   "id": "f31c98c9",
   "metadata": {},
   "outputs": [
    {
     "data": {
      "text/plain": [
       "(2075, 12)"
      ]
     },
     "execution_count": 24,
     "metadata": {},
     "output_type": "execute_result"
    }
   ],
   "source": [
    "clean_image_predict.shape"
   ]
  },
  {
   "cell_type": "code",
   "execution_count": 25,
   "id": "2409a0b1",
   "metadata": {},
   "outputs": [
    {
     "data": {
      "text/plain": [
       "(2356, 17)"
      ]
     },
     "execution_count": 25,
     "metadata": {},
     "output_type": "execute_result"
    }
   ],
   "source": [
    "clean_twitter_archive.shape"
   ]
  },
  {
   "cell_type": "markdown",
   "id": "9f678a2f",
   "metadata": {},
   "source": [
    "We check the structure of the tweet so that we can pull out the ratings and the dogs names"
   ]
  },
  {
   "cell_type": "markdown",
   "id": "00da75d1",
   "metadata": {},
   "source": [
    "**Define**\n",
    "##### Tideness Issue : additional_tweet_data\n",
    "* Extract dog ratings from the text column\n",
    "* Extract dog names ratings from the text column\n",
    "\n",
    "The two will make a dataframe which will be concatenated to the original data\n",
    "\n",
    "##### Quality Issue : additional_tweet_data\n",
    "* Remove the texts quotation(') texts from the names of the of the dogs extracted\n",
    "\n",
    "**Code**"
   ]
  },
  {
   "cell_type": "code",
   "execution_count": 27,
   "id": "5023b869",
   "metadata": {},
   "outputs": [
    {
     "name": "stdout",
     "output_type": "stream",
     "text": [
      "This is Archie. He is a rare Norwegian Pouncing Corgo. Lives in the tall grass. You never know when one may strike. 12/10 https://t.co/wUnZnhtVJB\n"
     ]
    }
   ],
   "source": [
    "#preview a line in text column\n",
    "print(clean_more_tweet_data['text'].values[2])"
   ]
  },
  {
   "cell_type": "code",
   "execution_count": 28,
   "id": "e682d33b",
   "metadata": {},
   "outputs": [
    {
     "data": {
      "text/plain": [
       "['12/10']"
      ]
     },
     "execution_count": 28,
     "metadata": {},
     "output_type": "execute_result"
    }
   ],
   "source": [
    "#Demonstrate how we can extract ratings using regular expressions\n",
    "t=re.findall(r'\\d{2}.\\d{2}', clean_more_tweet_data['text'].values[2])\n",
    "t"
   ]
  },
  {
   "cell_type": "code",
   "execution_count": 29,
   "id": "2a5dc4ea",
   "metadata": {},
   "outputs": [],
   "source": [
    "#Extract ratings and dog names from the text column in clean_more_tweet_data \n",
    "# create a data frame which we are goining to concatenate along the column with the main data frame\n",
    "rating_dog_name=[]\n",
    "for string in clean_more_tweet_data['text'].values:\n",
    "    rate = str(re.findall(r'\\d{2}.\\d{2}',string))[2:4]\n",
    "    dog_n =str(re.findall(r'(doggo|floofer|pupper|puppo)',string))[2:-2]\n",
    "    rating_dog_name.append({'rating_x0.1':rate, 'dog_name': dog_n})\n",
    "rating_dog_data=pd.DataFrame(rating_dog_name)\n",
    "\n",
    "   "
   ]
  },
  {
   "cell_type": "markdown",
   "id": "ae420903",
   "metadata": {},
   "source": [
    "**Test**"
   ]
  },
  {
   "cell_type": "code",
   "execution_count": 30,
   "id": "237f58b0",
   "metadata": {},
   "outputs": [
    {
     "data": {
      "text/html": [
       "<div>\n",
       "<style scoped>\n",
       "    .dataframe tbody tr th:only-of-type {\n",
       "        vertical-align: middle;\n",
       "    }\n",
       "\n",
       "    .dataframe tbody tr th {\n",
       "        vertical-align: top;\n",
       "    }\n",
       "\n",
       "    .dataframe thead th {\n",
       "        text-align: right;\n",
       "    }\n",
       "</style>\n",
       "<table border=\"1\" class=\"dataframe\">\n",
       "  <thead>\n",
       "    <tr style=\"text-align: right;\">\n",
       "      <th></th>\n",
       "      <th>rating_x0.1</th>\n",
       "      <th>dog_name</th>\n",
       "    </tr>\n",
       "  </thead>\n",
       "  <tbody>\n",
       "    <tr>\n",
       "      <th>0</th>\n",
       "      <td>13</td>\n",
       "      <td></td>\n",
       "    </tr>\n",
       "    <tr>\n",
       "      <th>1</th>\n",
       "      <td>13</td>\n",
       "      <td></td>\n",
       "    </tr>\n",
       "    <tr>\n",
       "      <th>2</th>\n",
       "      <td>12</td>\n",
       "      <td></td>\n",
       "    </tr>\n",
       "    <tr>\n",
       "      <th>3</th>\n",
       "      <td>13</td>\n",
       "      <td></td>\n",
       "    </tr>\n",
       "    <tr>\n",
       "      <th>4</th>\n",
       "      <td>12</td>\n",
       "      <td></td>\n",
       "    </tr>\n",
       "  </tbody>\n",
       "</table>\n",
       "</div>"
      ],
      "text/plain": [
       "  rating_x0.1 dog_name\n",
       "0          13         \n",
       "1          13         \n",
       "2          12         \n",
       "3          13         \n",
       "4          12         "
      ]
     },
     "execution_count": 30,
     "metadata": {},
     "output_type": "execute_result"
    }
   ],
   "source": [
    "rating_dog_data.head()  "
   ]
  },
  {
   "cell_type": "code",
   "execution_count": 31,
   "id": "8ab4f1d2",
   "metadata": {},
   "outputs": [
    {
     "data": {
      "text/plain": [
       "(2327, 2)"
      ]
     },
     "execution_count": 31,
     "metadata": {},
     "output_type": "execute_result"
    }
   ],
   "source": [
    "#view the size of the data\n",
    "rating_dog_data.shape"
   ]
  },
  {
   "cell_type": "code",
   "execution_count": 32,
   "id": "75cb6e6b",
   "metadata": {},
   "outputs": [
    {
     "data": {
      "text/plain": [
       "(2327, 2)"
      ]
     },
     "execution_count": 32,
     "metadata": {},
     "output_type": "execute_result"
    }
   ],
   "source": [
    "# Does rating_dog_data has the same number of rows as clean_more_tweet_data? if yes, we concat them\n",
    "rating_dog_data.shape"
   ]
  },
  {
   "cell_type": "code",
   "execution_count": 33,
   "id": "5c61c5d0",
   "metadata": {},
   "outputs": [],
   "source": [
    "#Combine the two data sets\n",
    "clean_new_tweet_data=pd.concat([clean_more_tweet_data,rating_dog_data], axis=1, ignore_index=True)"
   ]
  },
  {
   "cell_type": "code",
   "execution_count": 34,
   "id": "c68f8680",
   "metadata": {},
   "outputs": [
    {
     "data": {
      "text/html": [
       "<div>\n",
       "<style scoped>\n",
       "    .dataframe tbody tr th:only-of-type {\n",
       "        vertical-align: middle;\n",
       "    }\n",
       "\n",
       "    .dataframe tbody tr th {\n",
       "        vertical-align: top;\n",
       "    }\n",
       "\n",
       "    .dataframe thead th {\n",
       "        text-align: right;\n",
       "    }\n",
       "</style>\n",
       "<table border=\"1\" class=\"dataframe\">\n",
       "  <thead>\n",
       "    <tr style=\"text-align: right;\">\n",
       "      <th></th>\n",
       "      <th>0</th>\n",
       "      <th>1</th>\n",
       "      <th>2</th>\n",
       "      <th>3</th>\n",
       "      <th>4</th>\n",
       "      <th>5</th>\n",
       "      <th>6</th>\n",
       "    </tr>\n",
       "  </thead>\n",
       "  <tbody>\n",
       "    <tr>\n",
       "      <th>0</th>\n",
       "      <td>892420643555336193</td>\n",
       "      <td>Tue Aug 01 16:23:56 +0000 2017</td>\n",
       "      <td>6973</td>\n",
       "      <td>33700</td>\n",
       "      <td>This is Phineas. He's a mystical boy. Only eve...</td>\n",
       "      <td>13</td>\n",
       "      <td></td>\n",
       "    </tr>\n",
       "    <tr>\n",
       "      <th>1</th>\n",
       "      <td>892177421306343426</td>\n",
       "      <td>Tue Aug 01 00:17:27 +0000 2017</td>\n",
       "      <td>5275</td>\n",
       "      <td>29228</td>\n",
       "      <td>This is Tilly. She's just checking pup on you....</td>\n",
       "      <td>13</td>\n",
       "      <td></td>\n",
       "    </tr>\n",
       "    <tr>\n",
       "      <th>2</th>\n",
       "      <td>891815181378084864</td>\n",
       "      <td>Mon Jul 31 00:18:03 +0000 2017</td>\n",
       "      <td>3464</td>\n",
       "      <td>21975</td>\n",
       "      <td>This is Archie. He is a rare Norwegian Pouncin...</td>\n",
       "      <td>12</td>\n",
       "      <td></td>\n",
       "    </tr>\n",
       "    <tr>\n",
       "      <th>3</th>\n",
       "      <td>891689557279858688</td>\n",
       "      <td>Sun Jul 30 15:58:51 +0000 2017</td>\n",
       "      <td>7192</td>\n",
       "      <td>36794</td>\n",
       "      <td>This is Darla. She commenced a snooze mid meal...</td>\n",
       "      <td>13</td>\n",
       "      <td></td>\n",
       "    </tr>\n",
       "    <tr>\n",
       "      <th>4</th>\n",
       "      <td>891327558926688256</td>\n",
       "      <td>Sat Jul 29 16:00:24 +0000 2017</td>\n",
       "      <td>7719</td>\n",
       "      <td>35187</td>\n",
       "      <td>This is Franklin. He would like you to stop ca...</td>\n",
       "      <td>12</td>\n",
       "      <td></td>\n",
       "    </tr>\n",
       "  </tbody>\n",
       "</table>\n",
       "</div>"
      ],
      "text/plain": [
       "                    0                               1     2      3  \\\n",
       "0  892420643555336193  Tue Aug 01 16:23:56 +0000 2017  6973  33700   \n",
       "1  892177421306343426  Tue Aug 01 00:17:27 +0000 2017  5275  29228   \n",
       "2  891815181378084864  Mon Jul 31 00:18:03 +0000 2017  3464  21975   \n",
       "3  891689557279858688  Sun Jul 30 15:58:51 +0000 2017  7192  36794   \n",
       "4  891327558926688256  Sat Jul 29 16:00:24 +0000 2017  7719  35187   \n",
       "\n",
       "                                                   4   5 6  \n",
       "0  This is Phineas. He's a mystical boy. Only eve...  13    \n",
       "1  This is Tilly. She's just checking pup on you....  13    \n",
       "2  This is Archie. He is a rare Norwegian Pouncin...  12    \n",
       "3  This is Darla. She commenced a snooze mid meal...  13    \n",
       "4  This is Franklin. He would like you to stop ca...  12    "
      ]
     },
     "execution_count": 34,
     "metadata": {},
     "output_type": "execute_result"
    }
   ],
   "source": [
    "clean_new_tweet_data.head()"
   ]
  },
  {
   "cell_type": "markdown",
   "id": "9943c88f",
   "metadata": {},
   "source": [
    "##### Quality issue: additional_tweet_data\n",
    "**Define**\n",
    "\n",
    "* Rename the columns of the new data frame formed after combinining the extracted data and the original data\n",
    "* Adopt a new name for the dog rating. A name that is going to signify the type of value we have in the column (x0.1)\n",
    "\n",
    "**Code**"
   ]
  },
  {
   "cell_type": "code",
   "execution_count": 35,
   "id": "578067c8",
   "metadata": {},
   "outputs": [
    {
     "data": {
      "text/plain": [
       "Index(['tweet_id', 'date_created', 'retweet_count', 'favorite_count', 'text'], dtype='object')"
      ]
     },
     "execution_count": 35,
     "metadata": {},
     "output_type": "execute_result"
    }
   ],
   "source": [
    "#view column names of the clean_more_tweet_data and the new smaller data\n",
    "clean_more_tweet_data.columns"
   ]
  },
  {
   "cell_type": "code",
   "execution_count": 36,
   "id": "692119de",
   "metadata": {},
   "outputs": [
    {
     "data": {
      "text/plain": [
       "Index(['rating_x0.1', 'dog_name'], dtype='object')"
      ]
     },
     "execution_count": 36,
     "metadata": {},
     "output_type": "execute_result"
    }
   ],
   "source": [
    "rating_dog_data.columns"
   ]
  },
  {
   "cell_type": "code",
   "execution_count": 37,
   "id": "ff931654",
   "metadata": {},
   "outputs": [],
   "source": [
    "clean_new_tweet_data.columns=['tweet_id', 'date_created', 'retweet_count', 'favorite_count', 'text','rating_x0.1','dog_name']\n"
   ]
  },
  {
   "cell_type": "markdown",
   "id": "1a59ba6e",
   "metadata": {},
   "source": [
    "**Test**"
   ]
  },
  {
   "cell_type": "code",
   "execution_count": 38,
   "id": "dc592e79",
   "metadata": {},
   "outputs": [
    {
     "data": {
      "text/html": [
       "<div>\n",
       "<style scoped>\n",
       "    .dataframe tbody tr th:only-of-type {\n",
       "        vertical-align: middle;\n",
       "    }\n",
       "\n",
       "    .dataframe tbody tr th {\n",
       "        vertical-align: top;\n",
       "    }\n",
       "\n",
       "    .dataframe thead th {\n",
       "        text-align: right;\n",
       "    }\n",
       "</style>\n",
       "<table border=\"1\" class=\"dataframe\">\n",
       "  <thead>\n",
       "    <tr style=\"text-align: right;\">\n",
       "      <th></th>\n",
       "      <th>tweet_id</th>\n",
       "      <th>date_created</th>\n",
       "      <th>retweet_count</th>\n",
       "      <th>favorite_count</th>\n",
       "      <th>text</th>\n",
       "      <th>rating_x0.1</th>\n",
       "      <th>dog_name</th>\n",
       "    </tr>\n",
       "  </thead>\n",
       "  <tbody>\n",
       "    <tr>\n",
       "      <th>0</th>\n",
       "      <td>892420643555336193</td>\n",
       "      <td>Tue Aug 01 16:23:56 +0000 2017</td>\n",
       "      <td>6973</td>\n",
       "      <td>33700</td>\n",
       "      <td>This is Phineas. He's a mystical boy. Only eve...</td>\n",
       "      <td>13</td>\n",
       "      <td></td>\n",
       "    </tr>\n",
       "    <tr>\n",
       "      <th>1</th>\n",
       "      <td>892177421306343426</td>\n",
       "      <td>Tue Aug 01 00:17:27 +0000 2017</td>\n",
       "      <td>5275</td>\n",
       "      <td>29228</td>\n",
       "      <td>This is Tilly. She's just checking pup on you....</td>\n",
       "      <td>13</td>\n",
       "      <td></td>\n",
       "    </tr>\n",
       "    <tr>\n",
       "      <th>2</th>\n",
       "      <td>891815181378084864</td>\n",
       "      <td>Mon Jul 31 00:18:03 +0000 2017</td>\n",
       "      <td>3464</td>\n",
       "      <td>21975</td>\n",
       "      <td>This is Archie. He is a rare Norwegian Pouncin...</td>\n",
       "      <td>12</td>\n",
       "      <td></td>\n",
       "    </tr>\n",
       "    <tr>\n",
       "      <th>3</th>\n",
       "      <td>891689557279858688</td>\n",
       "      <td>Sun Jul 30 15:58:51 +0000 2017</td>\n",
       "      <td>7192</td>\n",
       "      <td>36794</td>\n",
       "      <td>This is Darla. She commenced a snooze mid meal...</td>\n",
       "      <td>13</td>\n",
       "      <td></td>\n",
       "    </tr>\n",
       "    <tr>\n",
       "      <th>4</th>\n",
       "      <td>891327558926688256</td>\n",
       "      <td>Sat Jul 29 16:00:24 +0000 2017</td>\n",
       "      <td>7719</td>\n",
       "      <td>35187</td>\n",
       "      <td>This is Franklin. He would like you to stop ca...</td>\n",
       "      <td>12</td>\n",
       "      <td></td>\n",
       "    </tr>\n",
       "  </tbody>\n",
       "</table>\n",
       "</div>"
      ],
      "text/plain": [
       "             tweet_id                    date_created  retweet_count  \\\n",
       "0  892420643555336193  Tue Aug 01 16:23:56 +0000 2017           6973   \n",
       "1  892177421306343426  Tue Aug 01 00:17:27 +0000 2017           5275   \n",
       "2  891815181378084864  Mon Jul 31 00:18:03 +0000 2017           3464   \n",
       "3  891689557279858688  Sun Jul 30 15:58:51 +0000 2017           7192   \n",
       "4  891327558926688256  Sat Jul 29 16:00:24 +0000 2017           7719   \n",
       "\n",
       "   favorite_count                                               text  \\\n",
       "0           33700  This is Phineas. He's a mystical boy. Only eve...   \n",
       "1           29228  This is Tilly. She's just checking pup on you....   \n",
       "2           21975  This is Archie. He is a rare Norwegian Pouncin...   \n",
       "3           36794  This is Darla. She commenced a snooze mid meal...   \n",
       "4           35187  This is Franklin. He would like you to stop ca...   \n",
       "\n",
       "  rating_x0.1 dog_name  \n",
       "0          13           \n",
       "1          13           \n",
       "2          12           \n",
       "3          13           \n",
       "4          12           "
      ]
     },
     "execution_count": 38,
     "metadata": {},
     "output_type": "execute_result"
    }
   ],
   "source": [
    "clean_new_tweet_data.head()"
   ]
  },
  {
   "cell_type": "code",
   "execution_count": 39,
   "id": "d1cf126c",
   "metadata": {},
   "outputs": [
    {
     "data": {
      "text/html": [
       "<div>\n",
       "<style scoped>\n",
       "    .dataframe tbody tr th:only-of-type {\n",
       "        vertical-align: middle;\n",
       "    }\n",
       "\n",
       "    .dataframe tbody tr th {\n",
       "        vertical-align: top;\n",
       "    }\n",
       "\n",
       "    .dataframe thead th {\n",
       "        text-align: right;\n",
       "    }\n",
       "</style>\n",
       "<table border=\"1\" class=\"dataframe\">\n",
       "  <thead>\n",
       "    <tr style=\"text-align: right;\">\n",
       "      <th></th>\n",
       "      <th>tweet_id</th>\n",
       "      <th>date_created</th>\n",
       "      <th>retweet_count</th>\n",
       "      <th>favorite_count</th>\n",
       "      <th>text</th>\n",
       "      <th>rating_x0.1</th>\n",
       "      <th>dog_name</th>\n",
       "    </tr>\n",
       "  </thead>\n",
       "  <tbody>\n",
       "    <tr>\n",
       "      <th>2319</th>\n",
       "      <td>666055525042405380</td>\n",
       "      <td>Mon Nov 16 00:49:46 +0000 2015</td>\n",
       "      <td>196</td>\n",
       "      <td>367</td>\n",
       "      <td>Here is a Siberian heavily armored polar bear ...</td>\n",
       "      <td>10</td>\n",
       "      <td></td>\n",
       "    </tr>\n",
       "    <tr>\n",
       "      <th>2320</th>\n",
       "      <td>666051853826850816</td>\n",
       "      <td>Mon Nov 16 00:35:11 +0000 2015</td>\n",
       "      <td>699</td>\n",
       "      <td>1023</td>\n",
       "      <td>This is an odd dog. Hard on the outside but lo...</td>\n",
       "      <td></td>\n",
       "      <td></td>\n",
       "    </tr>\n",
       "    <tr>\n",
       "      <th>2321</th>\n",
       "      <td>666050758794694657</td>\n",
       "      <td>Mon Nov 16 00:30:50 +0000 2015</td>\n",
       "      <td>50</td>\n",
       "      <td>115</td>\n",
       "      <td>This is a truly beautiful English Wilson Staff...</td>\n",
       "      <td>10</td>\n",
       "      <td></td>\n",
       "    </tr>\n",
       "    <tr>\n",
       "      <th>2322</th>\n",
       "      <td>666049248165822465</td>\n",
       "      <td>Mon Nov 16 00:24:50 +0000 2015</td>\n",
       "      <td>36</td>\n",
       "      <td>88</td>\n",
       "      <td>Here we have a 1949 1st generation vulpix. Enj...</td>\n",
       "      <td></td>\n",
       "      <td></td>\n",
       "    </tr>\n",
       "    <tr>\n",
       "      <th>2323</th>\n",
       "      <td>666044226329800704</td>\n",
       "      <td>Mon Nov 16 00:04:52 +0000 2015</td>\n",
       "      <td>115</td>\n",
       "      <td>246</td>\n",
       "      <td>This is a purebred Piers Morgan. Loves to Netf...</td>\n",
       "      <td></td>\n",
       "      <td></td>\n",
       "    </tr>\n",
       "    <tr>\n",
       "      <th>2324</th>\n",
       "      <td>666033412701032449</td>\n",
       "      <td>Sun Nov 15 23:21:54 +0000 2015</td>\n",
       "      <td>36</td>\n",
       "      <td>100</td>\n",
       "      <td>Here is a very happy pup. Big fan of well-main...</td>\n",
       "      <td></td>\n",
       "      <td></td>\n",
       "    </tr>\n",
       "    <tr>\n",
       "      <th>2325</th>\n",
       "      <td>666029285002620928</td>\n",
       "      <td>Sun Nov 15 23:05:30 +0000 2015</td>\n",
       "      <td>39</td>\n",
       "      <td>112</td>\n",
       "      <td>This is a western brown Mitsubishi terrier. Up...</td>\n",
       "      <td></td>\n",
       "      <td></td>\n",
       "    </tr>\n",
       "    <tr>\n",
       "      <th>2326</th>\n",
       "      <td>666020888022790149</td>\n",
       "      <td>Sun Nov 15 22:32:08 +0000 2015</td>\n",
       "      <td>419</td>\n",
       "      <td>2284</td>\n",
       "      <td>Here we have a Japanese Irish Setter. Lost eye...</td>\n",
       "      <td></td>\n",
       "      <td></td>\n",
       "    </tr>\n",
       "  </tbody>\n",
       "</table>\n",
       "</div>"
      ],
      "text/plain": [
       "                tweet_id                    date_created  retweet_count  \\\n",
       "2319  666055525042405380  Mon Nov 16 00:49:46 +0000 2015            196   \n",
       "2320  666051853826850816  Mon Nov 16 00:35:11 +0000 2015            699   \n",
       "2321  666050758794694657  Mon Nov 16 00:30:50 +0000 2015             50   \n",
       "2322  666049248165822465  Mon Nov 16 00:24:50 +0000 2015             36   \n",
       "2323  666044226329800704  Mon Nov 16 00:04:52 +0000 2015            115   \n",
       "2324  666033412701032449  Sun Nov 15 23:21:54 +0000 2015             36   \n",
       "2325  666029285002620928  Sun Nov 15 23:05:30 +0000 2015             39   \n",
       "2326  666020888022790149  Sun Nov 15 22:32:08 +0000 2015            419   \n",
       "\n",
       "      favorite_count                                               text  \\\n",
       "2319             367  Here is a Siberian heavily armored polar bear ...   \n",
       "2320            1023  This is an odd dog. Hard on the outside but lo...   \n",
       "2321             115  This is a truly beautiful English Wilson Staff...   \n",
       "2322              88  Here we have a 1949 1st generation vulpix. Enj...   \n",
       "2323             246  This is a purebred Piers Morgan. Loves to Netf...   \n",
       "2324             100  Here is a very happy pup. Big fan of well-main...   \n",
       "2325             112  This is a western brown Mitsubishi terrier. Up...   \n",
       "2326            2284  Here we have a Japanese Irish Setter. Lost eye...   \n",
       "\n",
       "     rating_x0.1 dog_name  \n",
       "2319          10           \n",
       "2320                       \n",
       "2321          10           \n",
       "2322                       \n",
       "2323                       \n",
       "2324                       \n",
       "2325                       \n",
       "2326                       "
      ]
     },
     "execution_count": 39,
     "metadata": {},
     "output_type": "execute_result"
    }
   ],
   "source": [
    "clean_new_tweet_data.tail(8)"
   ]
  },
  {
   "cell_type": "code",
   "execution_count": 40,
   "id": "cd68c831",
   "metadata": {},
   "outputs": [
    {
     "name": "stdout",
     "output_type": "stream",
     "text": [
      "<class 'pandas.core.frame.DataFrame'>\n",
      "RangeIndex: 2327 entries, 0 to 2326\n",
      "Data columns (total 7 columns):\n",
      " #   Column          Non-Null Count  Dtype \n",
      "---  ------          --------------  ----- \n",
      " 0   tweet_id        2327 non-null   int64 \n",
      " 1   date_created    2327 non-null   object\n",
      " 2   retweet_count   2327 non-null   int64 \n",
      " 3   favorite_count  2327 non-null   int64 \n",
      " 4   text            2327 non-null   object\n",
      " 5   rating_x0.1     2327 non-null   object\n",
      " 6   dog_name        2327 non-null   object\n",
      "dtypes: int64(3), object(4)\n",
      "memory usage: 127.4+ KB\n"
     ]
    }
   ],
   "source": [
    "clean_new_tweet_data.info()"
   ]
  },
  {
   "cell_type": "markdown",
   "id": "0afb8d38",
   "metadata": {},
   "source": [
    "##### Tidiness: additional_tweet_data\n",
    "\n",
    "**Define** \n",
    "\n",
    "* Extract years from the timestamp column\n",
    "\n",
    "**Code**"
   ]
  },
  {
   "cell_type": "code",
   "execution_count": 41,
   "id": "5280386a",
   "metadata": {},
   "outputs": [],
   "source": [
    "#Pull out years from the timestamp\n",
    "clean_new_tweet_data['date_created']=clean_new_tweet_data['date_created'].str[-4:]"
   ]
  },
  {
   "cell_type": "markdown",
   "id": "8a656432",
   "metadata": {},
   "source": [
    "**Test**"
   ]
  },
  {
   "cell_type": "code",
   "execution_count": 42,
   "id": "2e05ab2c",
   "metadata": {
    "scrolled": false
   },
   "outputs": [
    {
     "data": {
      "text/html": [
       "<div>\n",
       "<style scoped>\n",
       "    .dataframe tbody tr th:only-of-type {\n",
       "        vertical-align: middle;\n",
       "    }\n",
       "\n",
       "    .dataframe tbody tr th {\n",
       "        vertical-align: top;\n",
       "    }\n",
       "\n",
       "    .dataframe thead th {\n",
       "        text-align: right;\n",
       "    }\n",
       "</style>\n",
       "<table border=\"1\" class=\"dataframe\">\n",
       "  <thead>\n",
       "    <tr style=\"text-align: right;\">\n",
       "      <th></th>\n",
       "      <th>tweet_id</th>\n",
       "      <th>date_created</th>\n",
       "      <th>retweet_count</th>\n",
       "      <th>favorite_count</th>\n",
       "      <th>text</th>\n",
       "      <th>rating_x0.1</th>\n",
       "      <th>dog_name</th>\n",
       "    </tr>\n",
       "  </thead>\n",
       "  <tbody>\n",
       "    <tr>\n",
       "      <th>0</th>\n",
       "      <td>892420643555336193</td>\n",
       "      <td>2017</td>\n",
       "      <td>6973</td>\n",
       "      <td>33700</td>\n",
       "      <td>This is Phineas. He's a mystical boy. Only eve...</td>\n",
       "      <td>13</td>\n",
       "      <td></td>\n",
       "    </tr>\n",
       "    <tr>\n",
       "      <th>1</th>\n",
       "      <td>892177421306343426</td>\n",
       "      <td>2017</td>\n",
       "      <td>5275</td>\n",
       "      <td>29228</td>\n",
       "      <td>This is Tilly. She's just checking pup on you....</td>\n",
       "      <td>13</td>\n",
       "      <td></td>\n",
       "    </tr>\n",
       "    <tr>\n",
       "      <th>2</th>\n",
       "      <td>891815181378084864</td>\n",
       "      <td>2017</td>\n",
       "      <td>3464</td>\n",
       "      <td>21975</td>\n",
       "      <td>This is Archie. He is a rare Norwegian Pouncin...</td>\n",
       "      <td>12</td>\n",
       "      <td></td>\n",
       "    </tr>\n",
       "    <tr>\n",
       "      <th>3</th>\n",
       "      <td>891689557279858688</td>\n",
       "      <td>2017</td>\n",
       "      <td>7192</td>\n",
       "      <td>36794</td>\n",
       "      <td>This is Darla. She commenced a snooze mid meal...</td>\n",
       "      <td>13</td>\n",
       "      <td></td>\n",
       "    </tr>\n",
       "    <tr>\n",
       "      <th>4</th>\n",
       "      <td>891327558926688256</td>\n",
       "      <td>2017</td>\n",
       "      <td>7719</td>\n",
       "      <td>35187</td>\n",
       "      <td>This is Franklin. He would like you to stop ca...</td>\n",
       "      <td>12</td>\n",
       "      <td></td>\n",
       "    </tr>\n",
       "  </tbody>\n",
       "</table>\n",
       "</div>"
      ],
      "text/plain": [
       "             tweet_id date_created  retweet_count  favorite_count  \\\n",
       "0  892420643555336193         2017           6973           33700   \n",
       "1  892177421306343426         2017           5275           29228   \n",
       "2  891815181378084864         2017           3464           21975   \n",
       "3  891689557279858688         2017           7192           36794   \n",
       "4  891327558926688256         2017           7719           35187   \n",
       "\n",
       "                                                text rating_x0.1 dog_name  \n",
       "0  This is Phineas. He's a mystical boy. Only eve...          13           \n",
       "1  This is Tilly. She's just checking pup on you....          13           \n",
       "2  This is Archie. He is a rare Norwegian Pouncin...          12           \n",
       "3  This is Darla. She commenced a snooze mid meal...          13           \n",
       "4  This is Franklin. He would like you to stop ca...          12           "
      ]
     },
     "execution_count": 42,
     "metadata": {},
     "output_type": "execute_result"
    }
   ],
   "source": [
    "\n",
    "clean_new_tweet_data.head()"
   ]
  },
  {
   "cell_type": "code",
   "execution_count": 43,
   "id": "0077de46",
   "metadata": {
    "scrolled": true
   },
   "outputs": [
    {
     "name": "stdout",
     "output_type": "stream",
     "text": [
      "<class 'pandas.core.frame.DataFrame'>\n",
      "RangeIndex: 2327 entries, 0 to 2326\n",
      "Data columns (total 7 columns):\n",
      " #   Column          Non-Null Count  Dtype \n",
      "---  ------          --------------  ----- \n",
      " 0   tweet_id        2327 non-null   int64 \n",
      " 1   date_created    2327 non-null   object\n",
      " 2   retweet_count   2327 non-null   int64 \n",
      " 3   favorite_count  2327 non-null   int64 \n",
      " 4   text            2327 non-null   object\n",
      " 5   rating_x0.1     2327 non-null   object\n",
      " 6   dog_name        2327 non-null   object\n",
      "dtypes: int64(3), object(4)\n",
      "memory usage: 127.4+ KB\n"
     ]
    }
   ],
   "source": [
    "clean_new_tweet_data.info()"
   ]
  },
  {
   "cell_type": "markdown",
   "id": "35d742ba",
   "metadata": {},
   "source": [
    "##### Quality issue: additional_tweet_data\n",
    "\n",
    "**Define**\n",
    "\n",
    "* Drop rows that goes beyond 2017\n",
    "\n",
    "**Code**"
   ]
  },
  {
   "cell_type": "code",
   "execution_count": 44,
   "id": "e9c3306f",
   "metadata": {},
   "outputs": [
    {
     "data": {
      "text/plain": [
       "2016    1173\n",
       "2015     689\n",
       "2017     465\n",
       "Name: date_created, dtype: int64"
      ]
     },
     "execution_count": 44,
     "metadata": {},
     "output_type": "execute_result"
    }
   ],
   "source": [
    "clean_new_tweet_data['date_created'].value_counts()"
   ]
  },
  {
   "cell_type": "code",
   "execution_count": 45,
   "id": "91db36b9",
   "metadata": {},
   "outputs": [],
   "source": [
    "#Pick data that was created on 2017 only\n",
    "clean_new_tweet_data=clean_new_tweet_data[clean_new_tweet_data['date_created']=='2017']"
   ]
  },
  {
   "cell_type": "markdown",
   "id": "4a87e918",
   "metadata": {},
   "source": [
    "**Test**"
   ]
  },
  {
   "cell_type": "code",
   "execution_count": 46,
   "id": "b38ed731",
   "metadata": {},
   "outputs": [
    {
     "data": {
      "text/html": [
       "<div>\n",
       "<style scoped>\n",
       "    .dataframe tbody tr th:only-of-type {\n",
       "        vertical-align: middle;\n",
       "    }\n",
       "\n",
       "    .dataframe tbody tr th {\n",
       "        vertical-align: top;\n",
       "    }\n",
       "\n",
       "    .dataframe thead th {\n",
       "        text-align: right;\n",
       "    }\n",
       "</style>\n",
       "<table border=\"1\" class=\"dataframe\">\n",
       "  <thead>\n",
       "    <tr style=\"text-align: right;\">\n",
       "      <th></th>\n",
       "      <th>tweet_id</th>\n",
       "      <th>date_created</th>\n",
       "      <th>retweet_count</th>\n",
       "      <th>favorite_count</th>\n",
       "      <th>text</th>\n",
       "      <th>rating_x0.1</th>\n",
       "      <th>dog_name</th>\n",
       "    </tr>\n",
       "  </thead>\n",
       "  <tbody>\n",
       "    <tr>\n",
       "      <th>0</th>\n",
       "      <td>892420643555336193</td>\n",
       "      <td>2017</td>\n",
       "      <td>6973</td>\n",
       "      <td>33700</td>\n",
       "      <td>This is Phineas. He's a mystical boy. Only eve...</td>\n",
       "      <td>13</td>\n",
       "      <td></td>\n",
       "    </tr>\n",
       "    <tr>\n",
       "      <th>1</th>\n",
       "      <td>892177421306343426</td>\n",
       "      <td>2017</td>\n",
       "      <td>5275</td>\n",
       "      <td>29228</td>\n",
       "      <td>This is Tilly. She's just checking pup on you....</td>\n",
       "      <td>13</td>\n",
       "      <td></td>\n",
       "    </tr>\n",
       "    <tr>\n",
       "      <th>2</th>\n",
       "      <td>891815181378084864</td>\n",
       "      <td>2017</td>\n",
       "      <td>3464</td>\n",
       "      <td>21975</td>\n",
       "      <td>This is Archie. He is a rare Norwegian Pouncin...</td>\n",
       "      <td>12</td>\n",
       "      <td></td>\n",
       "    </tr>\n",
       "    <tr>\n",
       "      <th>3</th>\n",
       "      <td>891689557279858688</td>\n",
       "      <td>2017</td>\n",
       "      <td>7192</td>\n",
       "      <td>36794</td>\n",
       "      <td>This is Darla. She commenced a snooze mid meal...</td>\n",
       "      <td>13</td>\n",
       "      <td></td>\n",
       "    </tr>\n",
       "    <tr>\n",
       "      <th>4</th>\n",
       "      <td>891327558926688256</td>\n",
       "      <td>2017</td>\n",
       "      <td>7719</td>\n",
       "      <td>35187</td>\n",
       "      <td>This is Franklin. He would like you to stop ca...</td>\n",
       "      <td>12</td>\n",
       "      <td></td>\n",
       "    </tr>\n",
       "  </tbody>\n",
       "</table>\n",
       "</div>"
      ],
      "text/plain": [
       "             tweet_id date_created  retweet_count  favorite_count  \\\n",
       "0  892420643555336193         2017           6973           33700   \n",
       "1  892177421306343426         2017           5275           29228   \n",
       "2  891815181378084864         2017           3464           21975   \n",
       "3  891689557279858688         2017           7192           36794   \n",
       "4  891327558926688256         2017           7719           35187   \n",
       "\n",
       "                                                text rating_x0.1 dog_name  \n",
       "0  This is Phineas. He's a mystical boy. Only eve...          13           \n",
       "1  This is Tilly. She's just checking pup on you....          13           \n",
       "2  This is Archie. He is a rare Norwegian Pouncin...          12           \n",
       "3  This is Darla. She commenced a snooze mid meal...          13           \n",
       "4  This is Franklin. He would like you to stop ca...          12           "
      ]
     },
     "execution_count": 46,
     "metadata": {},
     "output_type": "execute_result"
    }
   ],
   "source": [
    "clean_new_tweet_data.head()"
   ]
  },
  {
   "cell_type": "code",
   "execution_count": 47,
   "id": "ce52b3c8",
   "metadata": {},
   "outputs": [
    {
     "data": {
      "text/plain": [
       "2017    465\n",
       "Name: date_created, dtype: int64"
      ]
     },
     "execution_count": 47,
     "metadata": {},
     "output_type": "execute_result"
    }
   ],
   "source": [
    "clean_new_tweet_data['date_created'].value_counts()"
   ]
  },
  {
   "cell_type": "code",
   "execution_count": 48,
   "id": "f53dcaab",
   "metadata": {},
   "outputs": [
    {
     "data": {
      "text/html": [
       "<div>\n",
       "<style scoped>\n",
       "    .dataframe tbody tr th:only-of-type {\n",
       "        vertical-align: middle;\n",
       "    }\n",
       "\n",
       "    .dataframe tbody tr th {\n",
       "        vertical-align: top;\n",
       "    }\n",
       "\n",
       "    .dataframe thead th {\n",
       "        text-align: right;\n",
       "    }\n",
       "</style>\n",
       "<table border=\"1\" class=\"dataframe\">\n",
       "  <thead>\n",
       "    <tr style=\"text-align: right;\">\n",
       "      <th></th>\n",
       "      <th>tweet_id</th>\n",
       "      <th>date_created</th>\n",
       "      <th>retweet_count</th>\n",
       "      <th>favorite_count</th>\n",
       "      <th>text</th>\n",
       "      <th>rating_x0.1</th>\n",
       "      <th>dog_name</th>\n",
       "    </tr>\n",
       "  </thead>\n",
       "  <tbody>\n",
       "    <tr>\n",
       "      <th>0</th>\n",
       "      <td>892420643555336193</td>\n",
       "      <td>2017</td>\n",
       "      <td>6973</td>\n",
       "      <td>33700</td>\n",
       "      <td>This is Phineas. He's a mystical boy. Only eve...</td>\n",
       "      <td>13</td>\n",
       "      <td></td>\n",
       "    </tr>\n",
       "    <tr>\n",
       "      <th>1</th>\n",
       "      <td>892177421306343426</td>\n",
       "      <td>2017</td>\n",
       "      <td>5275</td>\n",
       "      <td>29228</td>\n",
       "      <td>This is Tilly. She's just checking pup on you....</td>\n",
       "      <td>13</td>\n",
       "      <td></td>\n",
       "    </tr>\n",
       "    <tr>\n",
       "      <th>2</th>\n",
       "      <td>891815181378084864</td>\n",
       "      <td>2017</td>\n",
       "      <td>3464</td>\n",
       "      <td>21975</td>\n",
       "      <td>This is Archie. He is a rare Norwegian Pouncin...</td>\n",
       "      <td>12</td>\n",
       "      <td></td>\n",
       "    </tr>\n",
       "    <tr>\n",
       "      <th>3</th>\n",
       "      <td>891689557279858688</td>\n",
       "      <td>2017</td>\n",
       "      <td>7192</td>\n",
       "      <td>36794</td>\n",
       "      <td>This is Darla. She commenced a snooze mid meal...</td>\n",
       "      <td>13</td>\n",
       "      <td></td>\n",
       "    </tr>\n",
       "    <tr>\n",
       "      <th>4</th>\n",
       "      <td>891327558926688256</td>\n",
       "      <td>2017</td>\n",
       "      <td>7719</td>\n",
       "      <td>35187</td>\n",
       "      <td>This is Franklin. He would like you to stop ca...</td>\n",
       "      <td>12</td>\n",
       "      <td></td>\n",
       "    </tr>\n",
       "  </tbody>\n",
       "</table>\n",
       "</div>"
      ],
      "text/plain": [
       "             tweet_id date_created  retweet_count  favorite_count  \\\n",
       "0  892420643555336193         2017           6973           33700   \n",
       "1  892177421306343426         2017           5275           29228   \n",
       "2  891815181378084864         2017           3464           21975   \n",
       "3  891689557279858688         2017           7192           36794   \n",
       "4  891327558926688256         2017           7719           35187   \n",
       "\n",
       "                                                text rating_x0.1 dog_name  \n",
       "0  This is Phineas. He's a mystical boy. Only eve...          13           \n",
       "1  This is Tilly. She's just checking pup on you....          13           \n",
       "2  This is Archie. He is a rare Norwegian Pouncin...          12           \n",
       "3  This is Darla. She commenced a snooze mid meal...          13           \n",
       "4  This is Franklin. He would like you to stop ca...          12           "
      ]
     },
     "execution_count": 48,
     "metadata": {},
     "output_type": "execute_result"
    }
   ],
   "source": [
    "clean_new_tweet_data.head()"
   ]
  },
  {
   "cell_type": "markdown",
   "id": "cc2e0635",
   "metadata": {},
   "source": [
    "##### Tidiness issue : additional_tweet_data and image_predict_data\n",
    "We check if there are tweet ids that are both in the *clean_additional_tweet_data* and the *clean_image_predict_data*. If yes, we pull the ids and filter the databased on the list having duplicated ids\n",
    "\n",
    "**Define**\n",
    "\n",
    "* Create one table for the observational unit. We will ensure that the rows in the final data have a tweet id that is in both tables. This is to ensure that we analyse original tweets, that is tweets having images only\n",
    "\n",
    "**Code**"
   ]
  },
  {
   "cell_type": "code",
   "execution_count": 49,
   "id": "365aabb2",
   "metadata": {},
   "outputs": [
    {
     "data": {
      "text/plain": [
       "1609"
      ]
     },
     "execution_count": 49,
     "metadata": {},
     "output_type": "execute_result"
    }
   ],
   "source": [
    "#Check ids in clean_new_tweet_data  that have a corresponding image in clean image predict data\n",
    "ids =pd.Series(clean_new_tweet_data['tweet_id']+clean_image_predict['tweet_id'])\n",
    "sum(ids.duplicated())"
   ]
  },
  {
   "cell_type": "code",
   "execution_count": 50,
   "id": "cb205f4f",
   "metadata": {},
   "outputs": [
    {
     "data": {
      "text/plain": [
       "376"
      ]
     },
     "execution_count": 50,
     "metadata": {},
     "output_type": "execute_result"
    }
   ],
   "source": [
    "#Yes, there are ids in both data sets\n",
    "#Extract rows ids that have corresponding rows ids in the image predict data\n",
    "id_with_images=[]\n",
    "for tweet_id in clean_image_predict['tweet_id'].values:\n",
    "    if tweet_id in clean_new_tweet_data['tweet_id'].values:\n",
    "        id_with_images.append(tweet_id)\n",
    "len(id_with_images)"
   ]
  },
  {
   "cell_type": "code",
   "execution_count": 51,
   "id": "ac031ebe",
   "metadata": {},
   "outputs": [],
   "source": [
    "#Extract tweet that have ids in the list id_with_images. That is tweets having images from image prediction data\n",
    "clean_with_image=clean_new_tweet_data[clean_new_tweet_data['tweet_id'].isin(id_with_images)]\n"
   ]
  },
  {
   "cell_type": "markdown",
   "id": "a3e723a2",
   "metadata": {},
   "source": [
    "**Test**"
   ]
  },
  {
   "cell_type": "code",
   "execution_count": 52,
   "id": "8c4a8447",
   "metadata": {},
   "outputs": [
    {
     "data": {
      "text/html": [
       "<div>\n",
       "<style scoped>\n",
       "    .dataframe tbody tr th:only-of-type {\n",
       "        vertical-align: middle;\n",
       "    }\n",
       "\n",
       "    .dataframe tbody tr th {\n",
       "        vertical-align: top;\n",
       "    }\n",
       "\n",
       "    .dataframe thead th {\n",
       "        text-align: right;\n",
       "    }\n",
       "</style>\n",
       "<table border=\"1\" class=\"dataframe\">\n",
       "  <thead>\n",
       "    <tr style=\"text-align: right;\">\n",
       "      <th></th>\n",
       "      <th>tweet_id</th>\n",
       "      <th>date_created</th>\n",
       "      <th>retweet_count</th>\n",
       "      <th>favorite_count</th>\n",
       "      <th>text</th>\n",
       "      <th>rating_x0.1</th>\n",
       "      <th>dog_name</th>\n",
       "    </tr>\n",
       "  </thead>\n",
       "  <tbody>\n",
       "    <tr>\n",
       "      <th>0</th>\n",
       "      <td>892420643555336193</td>\n",
       "      <td>2017</td>\n",
       "      <td>6973</td>\n",
       "      <td>33700</td>\n",
       "      <td>This is Phineas. He's a mystical boy. Only eve...</td>\n",
       "      <td>13</td>\n",
       "      <td></td>\n",
       "    </tr>\n",
       "    <tr>\n",
       "      <th>1</th>\n",
       "      <td>892177421306343426</td>\n",
       "      <td>2017</td>\n",
       "      <td>5275</td>\n",
       "      <td>29228</td>\n",
       "      <td>This is Tilly. She's just checking pup on you....</td>\n",
       "      <td>13</td>\n",
       "      <td></td>\n",
       "    </tr>\n",
       "    <tr>\n",
       "      <th>2</th>\n",
       "      <td>891815181378084864</td>\n",
       "      <td>2017</td>\n",
       "      <td>3464</td>\n",
       "      <td>21975</td>\n",
       "      <td>This is Archie. He is a rare Norwegian Pouncin...</td>\n",
       "      <td>12</td>\n",
       "      <td></td>\n",
       "    </tr>\n",
       "    <tr>\n",
       "      <th>3</th>\n",
       "      <td>891689557279858688</td>\n",
       "      <td>2017</td>\n",
       "      <td>7192</td>\n",
       "      <td>36794</td>\n",
       "      <td>This is Darla. She commenced a snooze mid meal...</td>\n",
       "      <td>13</td>\n",
       "      <td></td>\n",
       "    </tr>\n",
       "    <tr>\n",
       "      <th>4</th>\n",
       "      <td>891327558926688256</td>\n",
       "      <td>2017</td>\n",
       "      <td>7719</td>\n",
       "      <td>35187</td>\n",
       "      <td>This is Franklin. He would like you to stop ca...</td>\n",
       "      <td>12</td>\n",
       "      <td></td>\n",
       "    </tr>\n",
       "  </tbody>\n",
       "</table>\n",
       "</div>"
      ],
      "text/plain": [
       "             tweet_id date_created  retweet_count  favorite_count  \\\n",
       "0  892420643555336193         2017           6973           33700   \n",
       "1  892177421306343426         2017           5275           29228   \n",
       "2  891815181378084864         2017           3464           21975   \n",
       "3  891689557279858688         2017           7192           36794   \n",
       "4  891327558926688256         2017           7719           35187   \n",
       "\n",
       "                                                text rating_x0.1 dog_name  \n",
       "0  This is Phineas. He's a mystical boy. Only eve...          13           \n",
       "1  This is Tilly. She's just checking pup on you....          13           \n",
       "2  This is Archie. He is a rare Norwegian Pouncin...          12           \n",
       "3  This is Darla. She commenced a snooze mid meal...          13           \n",
       "4  This is Franklin. He would like you to stop ca...          12           "
      ]
     },
     "execution_count": 52,
     "metadata": {},
     "output_type": "execute_result"
    }
   ],
   "source": [
    "clean_with_image.head()"
   ]
  },
  {
   "cell_type": "markdown",
   "id": "4bc31f28",
   "metadata": {},
   "source": [
    "\n",
    "##### Quality issue: additional_tweet_data\n",
    "Some colums have two names of the dogs. We delete such rows\n",
    "\n",
    "**Define**\n",
    "\n",
    "* Clean the dog_name column to ensure that no row has two dog names\n",
    "\n",
    "**Code**"
   ]
  },
  {
   "cell_type": "code",
   "execution_count": 53,
   "id": "b97f8887",
   "metadata": {},
   "outputs": [
    {
     "data": {
      "text/plain": [
       "                  307\n",
       "doggo              29\n",
       "pupper             24\n",
       "puppo              13\n",
       "puppo', 'doggo      2\n",
       "floofer             1\n",
       "Name: dog_name, dtype: int64"
      ]
     },
     "execution_count": 53,
     "metadata": {},
     "output_type": "execute_result"
    }
   ],
   "source": [
    "#Check the number of dogs\n",
    "clean_with_image['dog_name'].value_counts()"
   ]
  },
  {
   "cell_type": "code",
   "execution_count": 55,
   "id": "777f7cb9",
   "metadata": {},
   "outputs": [],
   "source": [
    "clean_with_image=clean_with_image[clean_with_image['dog_name']!=\"puppo', 'doggo\"]"
   ]
  },
  {
   "cell_type": "markdown",
   "id": "dd03f23e",
   "metadata": {},
   "source": [
    "**Test**"
   ]
  },
  {
   "cell_type": "code",
   "execution_count": 56,
   "id": "c68be52b",
   "metadata": {},
   "outputs": [
    {
     "data": {
      "text/plain": [
       "           307\n",
       "doggo       29\n",
       "pupper      24\n",
       "puppo       13\n",
       "floofer      1\n",
       "Name: dog_name, dtype: int64"
      ]
     },
     "execution_count": 56,
     "metadata": {},
     "output_type": "execute_result"
    }
   ],
   "source": [
    "clean_with_image['dog_name'].value_counts()"
   ]
  },
  {
   "cell_type": "markdown",
   "id": "1ffaaefb",
   "metadata": {},
   "source": [
    "##### Quality issue: additional_tweet_data\n",
    "\n",
    "**Define**\n",
    "\n",
    "* Drop rows whose dog ratings have no numeric value(have an empty string)\n",
    "\n",
    "**Code**"
   ]
  },
  {
   "cell_type": "code",
   "execution_count": 57,
   "id": "a52417b6",
   "metadata": {},
   "outputs": [
    {
     "data": {
      "text/plain": [
       "''"
      ]
     },
     "execution_count": 57,
     "metadata": {},
     "output_type": "execute_result"
    }
   ],
   "source": [
    "clean_with_image['dog_name'].values[0]"
   ]
  },
  {
   "cell_type": "code",
   "execution_count": 58,
   "id": "9e1df649",
   "metadata": {},
   "outputs": [
    {
     "data": {
      "text/plain": [
       "str"
      ]
     },
     "execution_count": 58,
     "metadata": {},
     "output_type": "execute_result"
    }
   ],
   "source": [
    "type(clean_with_image['dog_name'].values[0])"
   ]
  },
  {
   "cell_type": "code",
   "execution_count": 59,
   "id": "362fd676",
   "metadata": {},
   "outputs": [],
   "source": [
    "clean_with_image.drop(clean_with_image[clean_with_image['dog_name']==''].index, axis=0, inplace=True)"
   ]
  },
  {
   "cell_type": "markdown",
   "id": "e6455934",
   "metadata": {},
   "source": [
    "**Test**"
   ]
  },
  {
   "cell_type": "code",
   "execution_count": 60,
   "id": "c41c1297",
   "metadata": {},
   "outputs": [
    {
     "data": {
      "text/html": [
       "<div>\n",
       "<style scoped>\n",
       "    .dataframe tbody tr th:only-of-type {\n",
       "        vertical-align: middle;\n",
       "    }\n",
       "\n",
       "    .dataframe tbody tr th {\n",
       "        vertical-align: top;\n",
       "    }\n",
       "\n",
       "    .dataframe thead th {\n",
       "        text-align: right;\n",
       "    }\n",
       "</style>\n",
       "<table border=\"1\" class=\"dataframe\">\n",
       "  <thead>\n",
       "    <tr style=\"text-align: right;\">\n",
       "      <th></th>\n",
       "      <th>tweet_id</th>\n",
       "      <th>date_created</th>\n",
       "      <th>retweet_count</th>\n",
       "      <th>favorite_count</th>\n",
       "      <th>text</th>\n",
       "      <th>rating_x0.1</th>\n",
       "      <th>dog_name</th>\n",
       "    </tr>\n",
       "  </thead>\n",
       "  <tbody>\n",
       "    <tr>\n",
       "      <th>9</th>\n",
       "      <td>890240255349198849</td>\n",
       "      <td>2017</td>\n",
       "      <td>6074</td>\n",
       "      <td>27855</td>\n",
       "      <td>This is Cassie. She is a college pup. Studying...</td>\n",
       "      <td>14</td>\n",
       "      <td>doggo</td>\n",
       "    </tr>\n",
       "    <tr>\n",
       "      <th>12</th>\n",
       "      <td>889665388333682689</td>\n",
       "      <td>2017</td>\n",
       "      <td>8305</td>\n",
       "      <td>41884</td>\n",
       "      <td>Here's a puppo that seems to be on the fence a...</td>\n",
       "      <td>13</td>\n",
       "      <td>puppo</td>\n",
       "    </tr>\n",
       "    <tr>\n",
       "      <th>14</th>\n",
       "      <td>889531135344209921</td>\n",
       "      <td>2017</td>\n",
       "      <td>1874</td>\n",
       "      <td>13312</td>\n",
       "      <td>This is Stuart. He's sporting his favorite fan...</td>\n",
       "      <td>13</td>\n",
       "      <td>puppo</td>\n",
       "    </tr>\n",
       "    <tr>\n",
       "      <th>28</th>\n",
       "      <td>886366144734445568</td>\n",
       "      <td>2017</td>\n",
       "      <td>2613</td>\n",
       "      <td>18489</td>\n",
       "      <td>This is Roscoe. Another pupper fallen victim t...</td>\n",
       "      <td>12</td>\n",
       "      <td>pupper</td>\n",
       "    </tr>\n",
       "    <tr>\n",
       "      <th>42</th>\n",
       "      <td>884162670584377345</td>\n",
       "      <td>2017</td>\n",
       "      <td>2493</td>\n",
       "      <td>17889</td>\n",
       "      <td>Meet Yogi. He doesn't have any important dog m...</td>\n",
       "      <td>12</td>\n",
       "      <td>doggo</td>\n",
       "    </tr>\n",
       "  </tbody>\n",
       "</table>\n",
       "</div>"
      ],
      "text/plain": [
       "              tweet_id date_created  retweet_count  favorite_count  \\\n",
       "9   890240255349198849         2017           6074           27855   \n",
       "12  889665388333682689         2017           8305           41884   \n",
       "14  889531135344209921         2017           1874           13312   \n",
       "28  886366144734445568         2017           2613           18489   \n",
       "42  884162670584377345         2017           2493           17889   \n",
       "\n",
       "                                                 text rating_x0.1 dog_name  \n",
       "9   This is Cassie. She is a college pup. Studying...          14    doggo  \n",
       "12  Here's a puppo that seems to be on the fence a...          13    puppo  \n",
       "14  This is Stuart. He's sporting his favorite fan...          13    puppo  \n",
       "28  This is Roscoe. Another pupper fallen victim t...          12   pupper  \n",
       "42  Meet Yogi. He doesn't have any important dog m...          12    doggo  "
      ]
     },
     "execution_count": 60,
     "metadata": {},
     "output_type": "execute_result"
    }
   ],
   "source": [
    "clean_with_image.head()"
   ]
  },
  {
   "cell_type": "markdown",
   "id": "68a076d1",
   "metadata": {},
   "source": [
    "##### Quality issue: additional_tweet_data\n",
    "\n",
    "**Define**\n",
    "\n",
    "* Drop the id, date columns and text column\n",
    "\n",
    "**Code**"
   ]
  },
  {
   "cell_type": "code",
   "execution_count": 61,
   "id": "d8406b52",
   "metadata": {},
   "outputs": [],
   "source": [
    "#Drop tweet_id and date_created columns\n",
    "clean_with_image.drop(columns={'tweet_id','date_created','text'}, inplace=True)"
   ]
  },
  {
   "cell_type": "markdown",
   "id": "0c097a7c",
   "metadata": {},
   "source": [
    "**Test**"
   ]
  },
  {
   "cell_type": "code",
   "execution_count": 62,
   "id": "6355aa12",
   "metadata": {},
   "outputs": [
    {
     "data": {
      "text/html": [
       "<div>\n",
       "<style scoped>\n",
       "    .dataframe tbody tr th:only-of-type {\n",
       "        vertical-align: middle;\n",
       "    }\n",
       "\n",
       "    .dataframe tbody tr th {\n",
       "        vertical-align: top;\n",
       "    }\n",
       "\n",
       "    .dataframe thead th {\n",
       "        text-align: right;\n",
       "    }\n",
       "</style>\n",
       "<table border=\"1\" class=\"dataframe\">\n",
       "  <thead>\n",
       "    <tr style=\"text-align: right;\">\n",
       "      <th></th>\n",
       "      <th>retweet_count</th>\n",
       "      <th>favorite_count</th>\n",
       "      <th>rating_x0.1</th>\n",
       "      <th>dog_name</th>\n",
       "    </tr>\n",
       "  </thead>\n",
       "  <tbody>\n",
       "    <tr>\n",
       "      <th>9</th>\n",
       "      <td>6074</td>\n",
       "      <td>27855</td>\n",
       "      <td>14</td>\n",
       "      <td>doggo</td>\n",
       "    </tr>\n",
       "    <tr>\n",
       "      <th>12</th>\n",
       "      <td>8305</td>\n",
       "      <td>41884</td>\n",
       "      <td>13</td>\n",
       "      <td>puppo</td>\n",
       "    </tr>\n",
       "    <tr>\n",
       "      <th>14</th>\n",
       "      <td>1874</td>\n",
       "      <td>13312</td>\n",
       "      <td>13</td>\n",
       "      <td>puppo</td>\n",
       "    </tr>\n",
       "    <tr>\n",
       "      <th>28</th>\n",
       "      <td>2613</td>\n",
       "      <td>18489</td>\n",
       "      <td>12</td>\n",
       "      <td>pupper</td>\n",
       "    </tr>\n",
       "    <tr>\n",
       "      <th>42</th>\n",
       "      <td>2493</td>\n",
       "      <td>17889</td>\n",
       "      <td>12</td>\n",
       "      <td>doggo</td>\n",
       "    </tr>\n",
       "    <tr>\n",
       "      <th>...</th>\n",
       "      <td>...</td>\n",
       "      <td>...</td>\n",
       "      <td>...</td>\n",
       "      <td>...</td>\n",
       "    </tr>\n",
       "    <tr>\n",
       "      <th>442</th>\n",
       "      <td>2513</td>\n",
       "      <td>10196</td>\n",
       "      <td>13</td>\n",
       "      <td>doggo</td>\n",
       "    </tr>\n",
       "    <tr>\n",
       "      <th>447</th>\n",
       "      <td>7834</td>\n",
       "      <td>0</td>\n",
       "      <td>13</td>\n",
       "      <td>pupper</td>\n",
       "    </tr>\n",
       "    <tr>\n",
       "      <th>451</th>\n",
       "      <td>4371</td>\n",
       "      <td>0</td>\n",
       "      <td>12</td>\n",
       "      <td>puppo</td>\n",
       "    </tr>\n",
       "    <tr>\n",
       "      <th>459</th>\n",
       "      <td>942</td>\n",
       "      <td>4679</td>\n",
       "      <td>11</td>\n",
       "      <td>doggo</td>\n",
       "    </tr>\n",
       "    <tr>\n",
       "      <th>460</th>\n",
       "      <td>7834</td>\n",
       "      <td>21063</td>\n",
       "      <td>13</td>\n",
       "      <td>pupper</td>\n",
       "    </tr>\n",
       "  </tbody>\n",
       "</table>\n",
       "<p>67 rows × 4 columns</p>\n",
       "</div>"
      ],
      "text/plain": [
       "     retweet_count  favorite_count rating_x0.1 dog_name\n",
       "9             6074           27855          14    doggo\n",
       "12            8305           41884          13    puppo\n",
       "14            1874           13312          13    puppo\n",
       "28            2613           18489          12   pupper\n",
       "42            2493           17889          12    doggo\n",
       "..             ...             ...         ...      ...\n",
       "442           2513           10196          13    doggo\n",
       "447           7834               0          13   pupper\n",
       "451           4371               0          12    puppo\n",
       "459            942            4679          11    doggo\n",
       "460           7834           21063          13   pupper\n",
       "\n",
       "[67 rows x 4 columns]"
      ]
     },
     "execution_count": 62,
     "metadata": {},
     "output_type": "execute_result"
    }
   ],
   "source": [
    "clean_with_image"
   ]
  },
  {
   "cell_type": "markdown",
   "id": "24b675d9",
   "metadata": {},
   "source": [
    "##### Quality issue: additional_tweet_data\n",
    "\n",
    "**Define**\n",
    "\n",
    "* Convert the data type of the extracted dog rating from string to integer\n",
    "\n",
    "**Code**"
   ]
  },
  {
   "cell_type": "code",
   "execution_count": 63,
   "id": "d60aee2b",
   "metadata": {},
   "outputs": [
    {
     "name": "stdout",
     "output_type": "stream",
     "text": [
      "<class 'pandas.core.frame.DataFrame'>\n",
      "Int64Index: 67 entries, 9 to 460\n",
      "Data columns (total 4 columns):\n",
      " #   Column          Non-Null Count  Dtype \n",
      "---  ------          --------------  ----- \n",
      " 0   retweet_count   67 non-null     int64 \n",
      " 1   favorite_count  67 non-null     int64 \n",
      " 2   rating_x0.1     67 non-null     object\n",
      " 3   dog_name        67 non-null     object\n",
      "dtypes: int64(2), object(2)\n",
      "memory usage: 2.6+ KB\n"
     ]
    }
   ],
   "source": [
    "clean_with_image.info()"
   ]
  },
  {
   "cell_type": "code",
   "execution_count": 64,
   "id": "d6adfa3d",
   "metadata": {},
   "outputs": [],
   "source": [
    "#Change the data type of rating_x0.1 from string to integer\n",
    "clean_with_image['rating_x0.1']=clean_with_image['rating_x0.1'].astype(int)"
   ]
  },
  {
   "cell_type": "code",
   "execution_count": 65,
   "id": "468c0b65",
   "metadata": {},
   "outputs": [
    {
     "name": "stdout",
     "output_type": "stream",
     "text": [
      "<class 'pandas.core.frame.DataFrame'>\n",
      "Int64Index: 67 entries, 9 to 460\n",
      "Data columns (total 4 columns):\n",
      " #   Column          Non-Null Count  Dtype \n",
      "---  ------          --------------  ----- \n",
      " 0   retweet_count   67 non-null     int64 \n",
      " 1   favorite_count  67 non-null     int64 \n",
      " 2   rating_x0.1     67 non-null     int32 \n",
      " 3   dog_name        67 non-null     object\n",
      "dtypes: int32(1), int64(2), object(1)\n",
      "memory usage: 2.4+ KB\n"
     ]
    }
   ],
   "source": [
    "clean_with_image.info()"
   ]
  },
  {
   "cell_type": "markdown",
   "id": "718d6d01",
   "metadata": {},
   "source": [
    "**We then save data to csv**"
   ]
  },
  {
   "cell_type": "code",
   "execution_count": 66,
   "id": "09d9b037",
   "metadata": {},
   "outputs": [],
   "source": [
    "clean_with_image.to_csv('twitter_archive_master.csv', index=False)"
   ]
  },
  {
   "cell_type": "code",
   "execution_count": null,
   "id": "50867dd1",
   "metadata": {},
   "outputs": [],
   "source": []
  },
  {
   "cell_type": "markdown",
   "id": "f2b5dee0",
   "metadata": {},
   "source": [
    "<a id='analyze'></a>\n",
    "## EXPLORATORY DATA ANALYSIS\n",
    "\n",
    "In this section, we check for outliers, remove them then analyse the data"
   ]
  },
  {
   "cell_type": "code",
   "execution_count": 67,
   "id": "c60c29d9",
   "metadata": {},
   "outputs": [],
   "source": [
    "#Load the master data\n",
    "twitter_master_data=pd.read_csv('twitter_archive_master.csv')"
   ]
  },
  {
   "cell_type": "code",
   "execution_count": 68,
   "id": "cc5f4950",
   "metadata": {},
   "outputs": [
    {
     "data": {
      "text/html": [
       "<div>\n",
       "<style scoped>\n",
       "    .dataframe tbody tr th:only-of-type {\n",
       "        vertical-align: middle;\n",
       "    }\n",
       "\n",
       "    .dataframe tbody tr th {\n",
       "        vertical-align: top;\n",
       "    }\n",
       "\n",
       "    .dataframe thead th {\n",
       "        text-align: right;\n",
       "    }\n",
       "</style>\n",
       "<table border=\"1\" class=\"dataframe\">\n",
       "  <thead>\n",
       "    <tr style=\"text-align: right;\">\n",
       "      <th></th>\n",
       "      <th>retweet_count</th>\n",
       "      <th>favorite_count</th>\n",
       "      <th>rating_x0.1</th>\n",
       "      <th>dog_name</th>\n",
       "    </tr>\n",
       "  </thead>\n",
       "  <tbody>\n",
       "    <tr>\n",
       "      <th>0</th>\n",
       "      <td>6074</td>\n",
       "      <td>27855</td>\n",
       "      <td>14</td>\n",
       "      <td>doggo</td>\n",
       "    </tr>\n",
       "    <tr>\n",
       "      <th>1</th>\n",
       "      <td>8305</td>\n",
       "      <td>41884</td>\n",
       "      <td>13</td>\n",
       "      <td>puppo</td>\n",
       "    </tr>\n",
       "    <tr>\n",
       "      <th>2</th>\n",
       "      <td>1874</td>\n",
       "      <td>13312</td>\n",
       "      <td>13</td>\n",
       "      <td>puppo</td>\n",
       "    </tr>\n",
       "    <tr>\n",
       "      <th>3</th>\n",
       "      <td>2613</td>\n",
       "      <td>18489</td>\n",
       "      <td>12</td>\n",
       "      <td>pupper</td>\n",
       "    </tr>\n",
       "    <tr>\n",
       "      <th>4</th>\n",
       "      <td>2493</td>\n",
       "      <td>17889</td>\n",
       "      <td>12</td>\n",
       "      <td>doggo</td>\n",
       "    </tr>\n",
       "  </tbody>\n",
       "</table>\n",
       "</div>"
      ],
      "text/plain": [
       "   retweet_count  favorite_count  rating_x0.1 dog_name\n",
       "0           6074           27855           14    doggo\n",
       "1           8305           41884           13    puppo\n",
       "2           1874           13312           13    puppo\n",
       "3           2613           18489           12   pupper\n",
       "4           2493           17889           12    doggo"
      ]
     },
     "execution_count": 68,
     "metadata": {},
     "output_type": "execute_result"
    }
   ],
   "source": [
    "#have an overview of the data\n",
    "twitter_master_data.head()"
   ]
  },
  {
   "cell_type": "code",
   "execution_count": 69,
   "id": "6befbf8b",
   "metadata": {},
   "outputs": [
    {
     "name": "stdout",
     "output_type": "stream",
     "text": [
      "<class 'pandas.core.frame.DataFrame'>\n",
      "RangeIndex: 67 entries, 0 to 66\n",
      "Data columns (total 4 columns):\n",
      " #   Column          Non-Null Count  Dtype \n",
      "---  ------          --------------  ----- \n",
      " 0   retweet_count   67 non-null     int64 \n",
      " 1   favorite_count  67 non-null     int64 \n",
      " 2   rating_x0.1     67 non-null     int64 \n",
      " 3   dog_name        67 non-null     object\n",
      "dtypes: int64(3), object(1)\n",
      "memory usage: 2.2+ KB\n"
     ]
    }
   ],
   "source": [
    "twitter_master_data.info()"
   ]
  },
  {
   "cell_type": "markdown",
   "id": "01f0b46d",
   "metadata": {},
   "source": [
    "#### Research question 1: Which dogs have the highest and the lowest average rating?"
   ]
  },
  {
   "cell_type": "code",
   "execution_count": 74,
   "id": "74079967",
   "metadata": {},
   "outputs": [
    {
     "data": {
      "text/plain": [
       "dog_name\n",
       "doggo      12.448276\n",
       "floofer    13.000000\n",
       "pupper     12.625000\n",
       "puppo      12.769231\n",
       "Name: rating_x0.1, dtype: float64"
      ]
     },
     "execution_count": 74,
     "metadata": {},
     "output_type": "execute_result"
    }
   ],
   "source": [
    "means_ratings=twitter_master_data.groupby('dog_name')['rating_x0.1'].mean()\n",
    "means_ratings"
   ]
  },
  {
   "cell_type": "code",
   "execution_count": 81,
   "id": "f725e024",
   "metadata": {},
   "outputs": [
    {
     "data": {
      "image/png": "[encoded data removed]",
      "text/plain": [
       "<Figure size 432x288 with 1 Axes>"
      ]
     },
     "metadata": {
      "needs_background": "light"
     },
     "output_type": "display_data"
    }
   ],
   "source": [
    "#def bars(means_ratings.columns, means_ratings)\n",
    "\n",
    "plt.bar(['doggo','floofer','pupper','puppo'],means_ratings)\n",
    "plt.title(\"Ratings by each Dog\")\n",
    "plt.xlabel(\"Dog names\")\n",
    "plt.ylabel(\"Ratings (x0.1)\");"
   ]
  },
  {
   "cell_type": "code",
   "execution_count": 83,
   "id": "0428608a",
   "metadata": {},
   "outputs": [
    {
     "data": {
      "text/plain": [
       "doggo      29\n",
       "pupper     24\n",
       "puppo      13\n",
       "floofer     1\n",
       "Name: dog_name, dtype: int64"
      ]
     },
     "execution_count": 83,
     "metadata": {},
     "output_type": "execute_result"
    }
   ],
   "source": [
    "twitter_master_data['dog_name'].value_counts()"
   ]
  },
  {
   "cell_type": "markdown",
   "id": "96aced8d",
   "metadata": {},
   "source": [
    "Floofer has the highest dog rating followed by puppo while Doggo has the lowest. However, the difference is very minimial. It is worthy noting that floofer was rated only once, hence, the values represents that of one rateing. It is therefore better put that puppo has the best rating since it has a number of appearences in the tweets than floofer.\n"
   ]
  },
  {
   "cell_type": "markdown",
   "id": "48fdec27",
   "metadata": {},
   "source": [
    "#### Research question 2: What are the dog ranking based on the average favourite counts and the average number of retweets?\n",
    "We make a table having a number of values whose columns are dog names and exntries are the ratings"
   ]
  },
  {
   "cell_type": "code",
   "execution_count": 165,
   "id": "13f847cf",
   "metadata": {},
   "outputs": [
    {
     "name": "stderr",
     "output_type": "stream",
     "text": [
      "C:\\Users\\Fidelis\\Anaconda3\\lib\\site-packages\\ipykernel_launcher.py:1: FutureWarning: Indexing with multiple keys (implicitly converted to a tuple of keys) will be deprecated, use a list instead.\n",
      "  \"\"\"Entry point for launching an IPython kernel.\n"
     ]
    },
    {
     "data": {
      "text/html": [
       "<div>\n",
       "<style scoped>\n",
       "    .dataframe tbody tr th:only-of-type {\n",
       "        vertical-align: middle;\n",
       "    }\n",
       "\n",
       "    .dataframe tbody tr th {\n",
       "        vertical-align: top;\n",
       "    }\n",
       "\n",
       "    .dataframe thead th {\n",
       "        text-align: right;\n",
       "    }\n",
       "</style>\n",
       "<table border=\"1\" class=\"dataframe\">\n",
       "  <thead>\n",
       "    <tr style=\"text-align: right;\">\n",
       "      <th></th>\n",
       "      <th>retweet_count</th>\n",
       "      <th>favorite_count</th>\n",
       "    </tr>\n",
       "    <tr>\n",
       "      <th>dog_name</th>\n",
       "      <th></th>\n",
       "      <th></th>\n",
       "    </tr>\n",
       "  </thead>\n",
       "  <tbody>\n",
       "    <tr>\n",
       "      <th>doggo</th>\n",
       "      <td>3497.793103</td>\n",
       "      <td>14864.551724</td>\n",
       "    </tr>\n",
       "    <tr>\n",
       "      <th>floofer</th>\n",
       "      <td>3061.000000</td>\n",
       "      <td>19881.000000</td>\n",
       "    </tr>\n",
       "    <tr>\n",
       "      <th>pupper</th>\n",
       "      <td>6334.708333</td>\n",
       "      <td>22379.000000</td>\n",
       "    </tr>\n",
       "    <tr>\n",
       "      <th>puppo</th>\n",
       "      <td>7765.230769</td>\n",
       "      <td>29184.230769</td>\n",
       "    </tr>\n",
       "  </tbody>\n",
       "</table>\n",
       "</div>"
      ],
      "text/plain": [
       "          retweet_count  favorite_count\n",
       "dog_name                               \n",
       "doggo       3497.793103    14864.551724\n",
       "floofer     3061.000000    19881.000000\n",
       "pupper      6334.708333    22379.000000\n",
       "puppo       7765.230769    29184.230769"
      ]
     },
     "execution_count": 165,
     "metadata": {},
     "output_type": "execute_result"
    }
   ],
   "source": [
    "means_ratings=twitter_master_data.groupby('dog_name')['retweet_count','favorite_count'].mean()\n",
    "means_ratings"
   ]
  },
  {
   "cell_type": "code",
   "execution_count": 175,
   "id": "d9db11a7",
   "metadata": {},
   "outputs": [
    {
     "data": {
      "image/png": "[encoded data removed]",
      "text/plain": [
       "<Figure size 432x288 with 1 Axes>"
      ]
     },
     "metadata": {
      "needs_background": "light"
     },
     "output_type": "display_data"
    }
   ],
   "source": [
    "pl=means_ratings.plot(kind='line', title='Average Retweet counts and Favorite counts for the dog name');\n",
    "pl.set_ylabel('Average number (counts)');"
   ]
  },
  {
   "cell_type": "markdown",
   "id": "6aa4d232",
   "metadata": {},
   "source": [
    "Based on the retweet_counts and the favorite_counts, **puppo** was rated highly while **doggo** was rated the lowest"
   ]
  },
  {
   "cell_type": "markdown",
   "id": "cf7eba36",
   "metadata": {},
   "source": [
    "#### Research question 3: Do the dogs with higher have higher favourite counts and number of retweets?"
   ]
  },
  {
   "cell_type": "code",
   "execution_count": 176,
   "id": "f05f2d15",
   "metadata": {},
   "outputs": [
    {
     "name": "stderr",
     "output_type": "stream",
     "text": [
      "C:\\Users\\Fidelis\\Anaconda3\\lib\\site-packages\\ipykernel_launcher.py:1: FutureWarning: Indexing with multiple keys (implicitly converted to a tuple of keys) will be deprecated, use a list instead.\n",
      "  \"\"\"Entry point for launching an IPython kernel.\n"
     ]
    },
    {
     "data": {
      "text/html": [
       "<div>\n",
       "<style scoped>\n",
       "    .dataframe tbody tr th:only-of-type {\n",
       "        vertical-align: middle;\n",
       "    }\n",
       "\n",
       "    .dataframe tbody tr th {\n",
       "        vertical-align: top;\n",
       "    }\n",
       "\n",
       "    .dataframe thead th {\n",
       "        text-align: right;\n",
       "    }\n",
       "</style>\n",
       "<table border=\"1\" class=\"dataframe\">\n",
       "  <thead>\n",
       "    <tr style=\"text-align: right;\">\n",
       "      <th></th>\n",
       "      <th>retweet_count</th>\n",
       "      <th>favorite_count</th>\n",
       "    </tr>\n",
       "    <tr>\n",
       "      <th>dog_name</th>\n",
       "      <th></th>\n",
       "      <th></th>\n",
       "    </tr>\n",
       "  </thead>\n",
       "  <tbody>\n",
       "    <tr>\n",
       "      <th>doggo</th>\n",
       "      <td>3497.793103</td>\n",
       "      <td>14864.551724</td>\n",
       "    </tr>\n",
       "    <tr>\n",
       "      <th>floofer</th>\n",
       "      <td>3061.000000</td>\n",
       "      <td>19881.000000</td>\n",
       "    </tr>\n",
       "    <tr>\n",
       "      <th>pupper</th>\n",
       "      <td>6334.708333</td>\n",
       "      <td>22379.000000</td>\n",
       "    </tr>\n",
       "    <tr>\n",
       "      <th>puppo</th>\n",
       "      <td>7765.230769</td>\n",
       "      <td>29184.230769</td>\n",
       "    </tr>\n",
       "  </tbody>\n",
       "</table>\n",
       "</div>"
      ],
      "text/plain": [
       "          retweet_count  favorite_count\n",
       "dog_name                               \n",
       "doggo       3497.793103    14864.551724\n",
       "floofer     3061.000000    19881.000000\n",
       "pupper      6334.708333    22379.000000\n",
       "puppo       7765.230769    29184.230769"
      ]
     },
     "execution_count": 176,
     "metadata": {},
     "output_type": "execute_result"
    }
   ],
   "source": [
    "means_ratings=twitter_master_data.groupby('dog_name')['retweet_count','favorite_count'].mean()\n",
    "means_ratings"
   ]
  },
  {
   "cell_type": "markdown",
   "id": "6a03f852",
   "metadata": {},
   "source": [
    "Based on our earlier analysis, the dog with the highest rating was Puppo. From the table and the line graph above, the retweet_counts and favorite_counts are much higher for Puppo than other files. This implies that the dog with the highest rating has the highest average favourite counts and retweet_ counts.\n",
    "\n",
    "Likewise, the dog with the lowest rating, doggo has the lowest rating. Likewise, its retweet_count and favorite_count are relatively lower than other dogs"
   ]
  },
  {
   "cell_type": "markdown",
   "id": "8731d0ff",
   "metadata": {},
   "source": [
    "#### Research question 4: What is the effective percentage ranking of the dogs based on the favourite counts, number of retweets and the ratings? Does the ranking based on the effective percentage agree with the other rankings used earlier\n",
    "\n",
    "We computer the percentage of every entity for a given dog then combine using average as shown below."
   ]
  },
  {
   "cell_type": "code",
   "execution_count": 179,
   "id": "d3d359d3",
   "metadata": {},
   "outputs": [
    {
     "name": "stderr",
     "output_type": "stream",
     "text": [
      "C:\\Users\\Fidelis\\Anaconda3\\lib\\site-packages\\ipykernel_launcher.py:1: FutureWarning: Indexing with multiple keys (implicitly converted to a tuple of keys) will be deprecated, use a list instead.\n",
      "  \"\"\"Entry point for launching an IPython kernel.\n"
     ]
    }
   ],
   "source": [
    "effective_ratings=twitter_master_data.groupby('dog_name')['retweet_count','favorite_count','rating_x0.1'].mean()"
   ]
  },
  {
   "cell_type": "code",
   "execution_count": 180,
   "id": "a1d04fa6",
   "metadata": {},
   "outputs": [
    {
     "data": {
      "text/html": [
       "<div>\n",
       "<style scoped>\n",
       "    .dataframe tbody tr th:only-of-type {\n",
       "        vertical-align: middle;\n",
       "    }\n",
       "\n",
       "    .dataframe tbody tr th {\n",
       "        vertical-align: top;\n",
       "    }\n",
       "\n",
       "    .dataframe thead th {\n",
       "        text-align: right;\n",
       "    }\n",
       "</style>\n",
       "<table border=\"1\" class=\"dataframe\">\n",
       "  <thead>\n",
       "    <tr style=\"text-align: right;\">\n",
       "      <th></th>\n",
       "      <th>retweet_count</th>\n",
       "      <th>favorite_count</th>\n",
       "      <th>rating_x0.1</th>\n",
       "    </tr>\n",
       "    <tr>\n",
       "      <th>dog_name</th>\n",
       "      <th></th>\n",
       "      <th></th>\n",
       "      <th></th>\n",
       "    </tr>\n",
       "  </thead>\n",
       "  <tbody>\n",
       "    <tr>\n",
       "      <th>doggo</th>\n",
       "      <td>3497.793103</td>\n",
       "      <td>14864.551724</td>\n",
       "      <td>12.448276</td>\n",
       "    </tr>\n",
       "    <tr>\n",
       "      <th>floofer</th>\n",
       "      <td>3061.000000</td>\n",
       "      <td>19881.000000</td>\n",
       "      <td>13.000000</td>\n",
       "    </tr>\n",
       "    <tr>\n",
       "      <th>pupper</th>\n",
       "      <td>6334.708333</td>\n",
       "      <td>22379.000000</td>\n",
       "      <td>12.625000</td>\n",
       "    </tr>\n",
       "    <tr>\n",
       "      <th>puppo</th>\n",
       "      <td>7765.230769</td>\n",
       "      <td>29184.230769</td>\n",
       "      <td>12.769231</td>\n",
       "    </tr>\n",
       "  </tbody>\n",
       "</table>\n",
       "</div>"
      ],
      "text/plain": [
       "          retweet_count  favorite_count  rating_x0.1\n",
       "dog_name                                            \n",
       "doggo       3497.793103    14864.551724    12.448276\n",
       "floofer     3061.000000    19881.000000    13.000000\n",
       "pupper      6334.708333    22379.000000    12.625000\n",
       "puppo       7765.230769    29184.230769    12.769231"
      ]
     },
     "execution_count": 180,
     "metadata": {},
     "output_type": "execute_result"
    }
   ],
   "source": [
    "effective_ratings"
   ]
  },
  {
   "cell_type": "code",
   "execution_count": 185,
   "id": "b61c9434",
   "metadata": {},
   "outputs": [
    {
     "data": {
      "text/plain": [
       "[20658.732206012377, 86308.7824933687, 50.84250663129974]"
      ]
     },
     "execution_count": 185,
     "metadata": {},
     "output_type": "execute_result"
    }
   ],
   "source": [
    "sum_counts=list(effective_ratings.sum(axis=0))\n",
    "sum_counts"
   ]
  },
  {
   "cell_type": "code",
   "execution_count": 195,
   "id": "9646da3c",
   "metadata": {},
   "outputs": [
    {
     "data": {
      "text/html": [
       "<div>\n",
       "<style scoped>\n",
       "    .dataframe tbody tr th:only-of-type {\n",
       "        vertical-align: middle;\n",
       "    }\n",
       "\n",
       "    .dataframe tbody tr th {\n",
       "        vertical-align: top;\n",
       "    }\n",
       "\n",
       "    .dataframe thead th {\n",
       "        text-align: right;\n",
       "    }\n",
       "</style>\n",
       "<table border=\"1\" class=\"dataframe\">\n",
       "  <thead>\n",
       "    <tr style=\"text-align: right;\">\n",
       "      <th></th>\n",
       "      <th>retweet_count</th>\n",
       "      <th>favorite_count</th>\n",
       "      <th>rating_x0.1</th>\n",
       "      <th>Effective_percentage</th>\n",
       "    </tr>\n",
       "    <tr>\n",
       "      <th>dog_name</th>\n",
       "      <th></th>\n",
       "      <th></th>\n",
       "      <th></th>\n",
       "      <th></th>\n",
       "    </tr>\n",
       "  </thead>\n",
       "  <tbody>\n",
       "    <tr>\n",
       "      <th>doggo</th>\n",
       "      <td>16.931306</td>\n",
       "      <td>17.222525</td>\n",
       "      <td>24.483993</td>\n",
       "      <td>19.545941</td>\n",
       "    </tr>\n",
       "    <tr>\n",
       "      <th>floofer</th>\n",
       "      <td>14.816979</td>\n",
       "      <td>23.034736</td>\n",
       "      <td>25.569156</td>\n",
       "      <td>21.140290</td>\n",
       "    </tr>\n",
       "    <tr>\n",
       "      <th>pupper</th>\n",
       "      <td>30.663587</td>\n",
       "      <td>25.928995</td>\n",
       "      <td>24.831585</td>\n",
       "      <td>27.141389</td>\n",
       "    </tr>\n",
       "    <tr>\n",
       "      <th>puppo</th>\n",
       "      <td>37.588128</td>\n",
       "      <td>33.813744</td>\n",
       "      <td>25.115266</td>\n",
       "      <td>32.172379</td>\n",
       "    </tr>\n",
       "  </tbody>\n",
       "</table>\n",
       "</div>"
      ],
      "text/plain": [
       "          retweet_count  favorite_count  rating_x0.1  Effective_percentage\n",
       "dog_name                                                                  \n",
       "doggo         16.931306       17.222525    24.483993             19.545941\n",
       "floofer       14.816979       23.034736    25.569156             21.140290\n",
       "pupper        30.663587       25.928995    24.831585             27.141389\n",
       "puppo         37.588128       33.813744    25.115266             32.172379"
      ]
     },
     "execution_count": 195,
     "metadata": {},
     "output_type": "execute_result"
    }
   ],
   "source": [
    "effective_ratings['retweet_count']=effective_ratings['retweet_count']*100/sum_counts[0]\n",
    "effective_ratings['favorite_count']=effective_ratings['favorite_count']*100/sum_counts[1]\n",
    "effective_ratings['rating_x0.1']=effective_ratings['rating_x0.1']*100/sum_counts[2]\n",
    "effective_ratings['Effective_percentage']=effective_rate_copy.mean(axis=1)\n",
    "effective_ratings"
   ]
  },
  {
   "cell_type": "markdown",
   "id": "5bcb8480",
   "metadata": {},
   "source": [
    "Based on the effective_percentage, we get that the puppo has the highest ranking while doggo has the lowest ranking. This is in agreement with rankings that we cam up with earlier."
   ]
  },
  {
   "cell_type": "markdown",
   "id": "4f533360",
   "metadata": {},
   "source": [
    "<a id='concl'></a>\n",
    "## CONCLUSION\n",
    "In this project, we have ranked the dogs based on the data given together with the data that we gathered from the twitter API. We have found that Puppo is the most highly ranked dog name followed by pupper and doggo is the least ranked one. We were not able to get a better rank for floofer because we had limited data to understand help us rank it. it only have one value.\n",
    "\n",
    "We have also found that the dog names with higher ranking had more average favorite counts and retweet counts compared to others. On the other hand, the dog name with the lowest ranking had fewer average favorite counts and retweet counts compared to others. \n",
    "\n",
    "Finally, we have come up with a metric that combines the ranking, the favourite countd and the retweet counts. The new metric gave us results that were in agreement with the rankings of the dogs as done with ealier metrics. "
   ]
  },
  {
   "cell_type": "markdown",
   "id": "0eda12a5",
   "metadata": {},
   "source": [
    "<a id='lim'></a>\n",
    "## LIMITATIONS\n",
    "\n",
    "The main limitation is that the scope of the data was limited to 2017 or later and most rows had no dog ratings. As such, we had very few data rows at the end of the cleaning. For instance, the floofer dog had one rating only in the final data. This does did not give us a sufficient result that can be replicated  when the same report is done on a bigger data set. "
   ]
  },
  {
   "cell_type": "code",
   "execution_count": null,
   "id": "6c686233",
   "metadata": {},
   "outputs": [],
   "source": []
  }
 ],
 "metadata": {
  "kernelspec": {
   "display_name": "Python 3 (ipykernel)",
   "language": "python",
   "name": "python3"
  },
  "language_info": {
   "codemirror_mode": {
    "name": "ipython",
    "version": 3
   },
   "file_extension": ".py",
   "mimetype": "text/x-python",
   "name": "python",
   "nbconvert_exporter": "python",
   "pygments_lexer": "ipython3",
   "version": "3.7.13"
  }
 },
 "nbformat": 4,
 "nbformat_minor": 5
}
